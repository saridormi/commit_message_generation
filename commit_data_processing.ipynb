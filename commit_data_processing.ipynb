{
 "cells": [
  {
   "cell_type": "markdown",
   "metadata": {},
   "source": [
    "# Processing data from GitHub"
   ]
  },
  {
   "cell_type": "code",
   "execution_count": 1,
   "metadata": {},
   "outputs": [],
   "source": [
    "import pydriller\n",
    "import os\n",
    "import json\n",
    "from dpu_utils.utils import save_jsonl_gz, load_json_gz, RichPath\n",
    "import numpy as np\n",
    "\n",
    "from collections import namedtuple, defaultdict\n",
    "import json\n",
    "from tqdm import tqdm\n",
    "from joblib import Parallel, delayed, cpu_count\n",
    "%load_ext autoreload\n",
    "%autoreload 2\n",
    "\n",
    "os.chdir('D:\\github_data')\n",
    "\n",
    "commit_data_dir = 'preprocessed_data_no_unchanged_short'\n",
    "os.makedirs(commit_data_dir, exist_ok=True)"
   ]
  },
  {
   "cell_type": "markdown",
   "metadata": {},
   "source": [
    "### Объединим данные со всех репозиториев в один DataFrame"
   ]
  },
  {
   "cell_type": "code",
   "execution_count": 2,
   "metadata": {},
   "outputs": [
    {
     "name": "stderr",
     "output_type": "stream",
     "text": [
      "100%|████████████████████████████████████████████████████████████████████████████████| 995/995 [01:43<00:00,  9.59it/s]\n"
     ]
    }
   ],
   "source": [
    "import pandas as pd\n",
    "import matplotlib.pyplot as plt\n",
    "import seaborn as sns\n",
    "from collections import defaultdict\n",
    "import gc\n",
    "\n",
    "import gzip\n",
    "\n",
    "pd.options.display.float_format = '{:.2f}'.format\n",
    "\n",
    "dfs = []\n",
    "\n",
    "large_files = []\n",
    "\n",
    "for filename in tqdm(os.listdir(commit_data_dir)):\n",
    "    try:\n",
    "        df = pd.read_json(os.path.join(commit_data_dir, filename), orient='records')\n",
    "        df['repo'] = filename.split('.json')[0]\n",
    "        dfs.append(df)\n",
    "    except ValueError:\n",
    "        print('ValueError with', filename)\n",
    "        large_files.append(filename)\n",
    "    except MemoryError:\n",
    "        print('MemoryError with', filename)\n",
    "        large_files.append(filename)"
   ]
  },
  {
   "cell_type": "code",
   "execution_count": 3,
   "metadata": {
    "pycharm": {
     "name": "#%%\n"
    }
   },
   "outputs": [
    {
     "data": {
      "text/html": [
       "<div>\n",
       "<style scoped>\n",
       "    .dataframe tbody tr th:only-of-type {\n",
       "        vertical-align: middle;\n",
       "    }\n",
       "\n",
       "    .dataframe tbody tr th {\n",
       "        vertical-align: top;\n",
       "    }\n",
       "\n",
       "    .dataframe thead th {\n",
       "        text-align: right;\n",
       "    }\n",
       "</style>\n",
       "<table border=\"1\" class=\"dataframe\">\n",
       "  <thead>\n",
       "    <tr style=\"text-align: right;\">\n",
       "      <th></th>\n",
       "      <th>author</th>\n",
       "      <th>date</th>\n",
       "      <th>message</th>\n",
       "      <th>diff</th>\n",
       "      <th>num_mods</th>\n",
       "      <th>diff_len</th>\n",
       "      <th>message_len</th>\n",
       "      <th>repo</th>\n",
       "    </tr>\n",
       "  </thead>\n",
       "  <tbody>\n",
       "    <tr>\n",
       "      <th>0</th>\n",
       "      <td>(Arnaud Barisain Monrose, DREAMTEAM69@gmail.com)</td>\n",
       "      <td>2010-06-24 22:59:02</td>\n",
       "      <td>Fixed 2 . 1 compatibility</td>\n",
       "      <td>[. DS _ Store \\n Binary files a / . DS _ Store...</td>\n",
       "      <td>12</td>\n",
       "      <td>764</td>\n",
       "      <td>5</td>\n",
       "      <td>abarisain_dmix</td>\n",
       "    </tr>\n",
       "    <tr>\n",
       "      <th>1</th>\n",
       "      <td>(dreamteam69, dreamteam69@gmail.com)</td>\n",
       "      <td>2010-08-07 03:14:53</td>\n",
       "      <td>Updated project so it uses 2 . 2 apis</td>\n",
       "      <td>[MPDroid / AndroidManifest . xml \\n + &lt; receiv...</td>\n",
       "      <td>3</td>\n",
       "      <td>167</td>\n",
       "      <td>9</td>\n",
       "      <td>abarisain_dmix</td>\n",
       "    </tr>\n",
       "    <tr>\n",
       "      <th>2</th>\n",
       "      <td>(dreamteam69, dreamteam69@gmail.com)</td>\n",
       "      <td>2010-08-07 03:16:28</td>\n",
       "      <td>Fixed text shadow size and cover art DPI</td>\n",
       "      <td>[MPDroid / res / layout / main . xml \\n - andr...</td>\n",
       "      <td>2</td>\n",
       "      <td>972</td>\n",
       "      <td>8</td>\n",
       "      <td>abarisain_dmix</td>\n",
       "    </tr>\n",
       "    <tr>\n",
       "      <th>3</th>\n",
       "      <td>(dreamteam69, dreamteam69@gmail.com)</td>\n",
       "      <td>2010-08-07 03:19:09</td>\n",
       "      <td>Added headphone unplug &amp; remote control support</td>\n",
       "      <td>[MPDroid / src / com / arkanta / mpdroid / Str...</td>\n",
       "      <td>1</td>\n",
       "      <td>1402</td>\n",
       "      <td>7</td>\n",
       "      <td>abarisain_dmix</td>\n",
       "    </tr>\n",
       "    <tr>\n",
       "      <th>4</th>\n",
       "      <td>(dreamteam69, dreamteam69@gmail.com)</td>\n",
       "      <td>2010-08-07 14:50:35</td>\n",
       "      <td>Fixed 2 . 1 compatibility</td>\n",
       "      <td>[MPDroid / default . properties \\n - target = ...</td>\n",
       "      <td>3</td>\n",
       "      <td>1197</td>\n",
       "      <td>5</td>\n",
       "      <td>abarisain_dmix</td>\n",
       "    </tr>\n",
       "  </tbody>\n",
       "</table>\n",
       "</div>"
      ],
      "text/plain": [
       "                                             author                date  \\\n",
       "0  (Arnaud Barisain Monrose, DREAMTEAM69@gmail.com) 2010-06-24 22:59:02   \n",
       "1              (dreamteam69, dreamteam69@gmail.com) 2010-08-07 03:14:53   \n",
       "2              (dreamteam69, dreamteam69@gmail.com) 2010-08-07 03:16:28   \n",
       "3              (dreamteam69, dreamteam69@gmail.com) 2010-08-07 03:19:09   \n",
       "4              (dreamteam69, dreamteam69@gmail.com) 2010-08-07 14:50:35   \n",
       "\n",
       "                                           message  \\\n",
       "0                        Fixed 2 . 1 compatibility   \n",
       "1            Updated project so it uses 2 . 2 apis   \n",
       "2         Fixed text shadow size and cover art DPI   \n",
       "3  Added headphone unplug & remote control support   \n",
       "4                        Fixed 2 . 1 compatibility   \n",
       "\n",
       "                                                diff  num_mods  diff_len  \\\n",
       "0  [. DS _ Store \\n Binary files a / . DS _ Store...        12       764   \n",
       "1  [MPDroid / AndroidManifest . xml \\n + < receiv...         3       167   \n",
       "2  [MPDroid / res / layout / main . xml \\n - andr...         2       972   \n",
       "3  [MPDroid / src / com / arkanta / mpdroid / Str...         1      1402   \n",
       "4  [MPDroid / default . properties \\n - target = ...         3      1197   \n",
       "\n",
       "   message_len            repo  \n",
       "0            5  abarisain_dmix  \n",
       "1            9  abarisain_dmix  \n",
       "2            8  abarisain_dmix  \n",
       "3            7  abarisain_dmix  \n",
       "4            5  abarisain_dmix  "
      ]
     },
     "execution_count": 3,
     "metadata": {},
     "output_type": "execute_result"
    }
   ],
   "source": [
    "df = pd.concat(dfs, ignore_index=True, axis=0)\n",
    "df.author = df.author.apply(lambda x: tuple(x))\n",
    "df.head()"
   ]
  },
  {
   "cell_type": "code",
   "execution_count": 4,
   "metadata": {},
   "outputs": [
    {
     "data": {
      "text/plain": [
       "1692920"
      ]
     },
     "execution_count": 4,
     "metadata": {},
     "output_type": "execute_result"
    }
   ],
   "source": [
    "len(df)"
   ]
  },
  {
   "cell_type": "markdown",
   "metadata": {},
   "source": [
    "### Статистика по коммитам для каждого автора"
   ]
  },
  {
   "cell_type": "code",
   "execution_count": 5,
   "metadata": {},
   "outputs": [
    {
     "data": {
      "text/plain": [
       "count   58571.00\n",
       "mean       28.90\n",
       "std       172.61\n",
       "min         1.00\n",
       "25%         1.00\n",
       "50%         2.00\n",
       "75%         7.00\n",
       "max     12513.00\n",
       "Name: date, dtype: float64"
      ]
     },
     "execution_count": 5,
     "metadata": {},
     "output_type": "execute_result"
    }
   ],
   "source": [
    "author_df = df.groupby(by='author')['date'].count()\n",
    "author_df.describe()"
   ]
  },
  {
   "cell_type": "markdown",
   "metadata": {},
   "source": [
    "Всего есть ~59k уникальных авторов, причем тех, у кого всего один коммит, достаточно много. Посмотрим на конкретное соотношение:"
   ]
  },
  {
   "cell_type": "code",
   "execution_count": 6,
   "metadata": {
    "pycharm": {
     "name": "#%%\n"
    }
   },
   "outputs": [
    {
     "name": "stdout",
     "output_type": "stream",
     "text": [
      "% of authors with only 1 commit: 41.67\n"
     ]
    }
   ],
   "source": [
    "print(f'% of authors with only 1 commit: {100 * len(author_df.loc[author_df == 1]) / len(author_df):.2f}')"
   ]
  },
  {
   "cell_type": "code",
   "execution_count": 7,
   "metadata": {},
   "outputs": [
    {
     "name": "stdout",
     "output_type": "stream",
     "text": [
      "24405\n"
     ]
    }
   ],
   "source": [
    "print(len(df) - len(df.loc[df['author'].isin(author_df.index[author_df > 1].tolist())]))"
   ]
  },
  {
   "cell_type": "markdown",
   "metadata": {
    "pycharm": {
     "name": "#%% md\n"
    }
   },
   "source": [
    "Теоретически, таких авторов можно отбросить (это лишит нас всего 24k примеров), но можно и оставить, чтобы лучше обрабатывать случаи, когда истории нет."
   ]
  },
  {
   "cell_type": "markdown",
   "metadata": {
    "pycharm": {
     "name": "#%% md\n"
    }
   },
   "source": [
    "### Статистика по количеству токенов в диффах\n",
    "\n",
    "Здесь токенизация проводится просто разделением по пробелам, и в данной версии датасета отброшены все примеры более чем с 2048 токенами."
   ]
  },
  {
   "cell_type": "code",
   "execution_count": 8,
   "metadata": {
    "pycharm": {
     "name": "#%%\n"
    }
   },
   "outputs": [
    {
     "data": {
      "text/plain": [
       "count   1692920.00\n",
       "mean        531.18\n",
       "std         512.13\n",
       "min          12.00\n",
       "25%         127.00\n",
       "50%         332.00\n",
       "75%         796.00\n",
       "max        2048.00\n",
       "Name: diff_len, dtype: float64"
      ]
     },
     "execution_count": 8,
     "metadata": {},
     "output_type": "execute_result"
    }
   ],
   "source": [
    "df['diff_len'].describe()"
   ]
  },
  {
   "cell_type": "code",
   "execution_count": 9,
   "metadata": {},
   "outputs": [
    {
     "name": "stdout",
     "output_type": "stream",
     "text": [
      "% of examples with # of tokens in diff <= 512: 62.34\n"
     ]
    }
   ],
   "source": [
    "print(f\"% of examples with # of tokens in diff <= 512: {100 * len(df.loc[df['diff_len'] <= 512]) / len(df):.2f}\")"
   ]
  },
  {
   "cell_type": "markdown",
   "metadata": {},
   "source": [
    "### Статистика по количеству токенов в сообщениях"
   ]
  },
  {
   "cell_type": "code",
   "execution_count": 10,
   "metadata": {},
   "outputs": [
    {
     "data": {
      "text/plain": [
       "count   1692920.00\n",
       "mean         26.42\n",
       "std          24.63\n",
       "min           5.00\n",
       "25%           9.00\n",
       "50%          16.00\n",
       "75%          41.00\n",
       "max         158.00\n",
       "Name: message_len, dtype: float64"
      ]
     },
     "execution_count": 10,
     "metadata": {},
     "output_type": "execute_result"
    }
   ],
   "source": [
    "df['message_len'].describe()"
   ]
  },
  {
   "cell_type": "markdown",
   "metadata": {
    "pycharm": {
     "name": "#%% md\n"
    }
   },
   "source": [
    "### Сохраним данные в формате открытого датасета"
   ]
  },
  {
   "cell_type": "markdown",
   "metadata": {
    "pycharm": {
     "name": "#%% md\n"
    }
   },
   "source": [
    "Открытый датасет был разбит на trait и test части, в каждой из них хранилось по три файла: с сообщениями, с диффами, и с id репозитория. Сделаем примерно то же самое, но с id автора, а еще отсортируем по времени.\n",
    "\n",
    "**UPD: мне кажется более удобным использовать единый .csv файл.**"
   ]
  },
  {
   "cell_type": "code",
   "execution_count": 11,
   "metadata": {
    "pycharm": {
     "name": "#%%\n"
    }
   },
   "outputs": [],
   "source": [
    "# отсортируем датафрейм так, чтобы у каждого автора коммиты шли в соответствии с датой, от самых ранних к самым поздним\n",
    "df.sort_values(by=['author', 'date'], inplace=True)\n",
    "\n",
    "# заменим авторов на что-то вроде id, чтобы было проще\n",
    "from sklearn.preprocessing import LabelEncoder\n",
    "\n",
    "le = LabelEncoder()\n",
    "df['author'] = df['author'].apply(lambda x: x[0] + '<SEP>' + x[1]) # label encoder doesn't work with tuples\n",
    "df['author'] = le.fit_transform(df['author'])\n",
    "\n",
    "# сделаем из диффов-списков диффы-строки\n",
    "df['diff'] = df['diff'].apply(lambda x: ' '.join(x))"
   ]
  },
  {
   "cell_type": "markdown",
   "metadata": {},
   "source": [
    "Вынесем в train, val и test разные репозитории."
   ]
  },
  {
   "cell_type": "code",
   "execution_count": 12,
   "metadata": {},
   "outputs": [],
   "source": [
    "from sklearn.model_selection import train_test_split\n",
    "\n",
    "repos = df['repo'].unique()\n",
    "\n",
    "train_repos, test_repos = train_test_split(repos, test_size=0.01, shuffle=True, random_state=555)\n",
    "train_repos, val_repos = train_test_split(train_repos, test_size=0.01, random_state=555)"
   ]
  },
  {
   "cell_type": "code",
   "execution_count": 13,
   "metadata": {},
   "outputs": [
    {
     "name": "stdout",
     "output_type": "stream",
     "text": [
      "Train: 975\n",
      "Val: 10\n",
      "Test: 10\n"
     ]
    }
   ],
   "source": [
    "print('Train:', len(train_repos))\n",
    "print('Val:', len(val_repos))\n",
    "print('Test:', len(test_repos))"
   ]
  },
  {
   "cell_type": "code",
   "execution_count": 14,
   "metadata": {
    "pycharm": {
     "name": "#%%\n"
    }
   },
   "outputs": [
    {
     "data": {
      "text/plain": [
       "(14144, 8)"
      ]
     },
     "execution_count": 14,
     "metadata": {},
     "output_type": "execute_result"
    }
   ],
   "source": [
    "test_df = df.loc[df['repo'].isin(test_repos)]\n",
    "test_df.shape"
   ]
  },
  {
   "cell_type": "code",
   "execution_count": 15,
   "metadata": {
    "pycharm": {
     "name": "#%%\n"
    }
   },
   "outputs": [
    {
     "data": {
      "text/plain": [
       "(14127, 8)"
      ]
     },
     "execution_count": 15,
     "metadata": {},
     "output_type": "execute_result"
    }
   ],
   "source": [
    "val_df = df.loc[df['repo'].isin(val_repos)]\n",
    "val_df.shape"
   ]
  },
  {
   "cell_type": "code",
   "execution_count": 16,
   "metadata": {
    "pycharm": {
     "name": "#%%\n"
    }
   },
   "outputs": [
    {
     "data": {
      "text/plain": [
       "(1664649, 8)"
      ]
     },
     "execution_count": 16,
     "metadata": {},
     "output_type": "execute_result"
    }
   ],
   "source": [
    "train_df = df.loc[df['repo'].isin(train_repos)]\n",
    "train_df.shape"
   ]
  },
  {
   "cell_type": "markdown",
   "metadata": {
    "pycharm": {
     "name": "#%% md\n"
    }
   },
   "source": [
    "Теперь дополнительно проверим, что в train не встречаются авторы из val и test."
   ]
  },
  {
   "cell_type": "code",
   "execution_count": 17,
   "metadata": {},
   "outputs": [
    {
     "name": "stdout",
     "output_type": "stream",
     "text": [
      "Intersection between val and test:\n",
      "[42321 46225 51044 52049]\n"
     ]
    }
   ],
   "source": [
    "test_authors = test_df['author'].unique()\n",
    "val_authors = val_df['author'].unique()\n",
    "\n",
    "print('Intersection between val and test:')\n",
    "print(np.intersect1d(test_authors, val_authors))\n",
    "\n",
    "test_and_val_authors = list(test_authors) +  list(val_authors)"
   ]
  },
  {
   "cell_type": "code",
   "execution_count": 18,
   "metadata": {},
   "outputs": [
    {
     "data": {
      "text/plain": [
       "(1594188, 8)"
      ]
     },
     "execution_count": 18,
     "metadata": {},
     "output_type": "execute_result"
    }
   ],
   "source": [
    "train_df = train_df.loc[~train_df['author'].isin(test_and_val_authors)]\n",
    "train_df.shape"
   ]
  },
  {
   "cell_type": "code",
   "execution_count": 19,
   "metadata": {
    "pycharm": {
     "name": "#%%\n"
    }
   },
   "outputs": [
    {
     "data": {
      "text/html": [
       "<div>\n",
       "<style scoped>\n",
       "    .dataframe tbody tr th:only-of-type {\n",
       "        vertical-align: middle;\n",
       "    }\n",
       "\n",
       "    .dataframe tbody tr th {\n",
       "        vertical-align: top;\n",
       "    }\n",
       "\n",
       "    .dataframe thead th {\n",
       "        text-align: right;\n",
       "    }\n",
       "</style>\n",
       "<table border=\"1\" class=\"dataframe\">\n",
       "  <thead>\n",
       "    <tr style=\"text-align: right;\">\n",
       "      <th></th>\n",
       "      <th>author</th>\n",
       "      <th>date</th>\n",
       "      <th>message</th>\n",
       "      <th>diff</th>\n",
       "      <th>num_mods</th>\n",
       "      <th>diff_len</th>\n",
       "      <th>message_len</th>\n",
       "      <th>repo</th>\n",
       "    </tr>\n",
       "  </thead>\n",
       "  <tbody>\n",
       "    <tr>\n",
       "      <th>1473662</th>\n",
       "      <td>97</td>\n",
       "      <td>2014-05-11 21:19:07</td>\n",
       "      <td>And re - add renamed file . . .</td>\n",
       "      <td>src / main / java / org / spongepowered / api ...</td>\n",
       "      <td>3</td>\n",
       "      <td>122</td>\n",
       "      <td>9</td>\n",
       "      <td>spongepowered_spongeapi</td>\n",
       "    </tr>\n",
       "    <tr>\n",
       "      <th>305788</th>\n",
       "      <td>99</td>\n",
       "      <td>2001-10-24 09:07:36</td>\n",
       "      <td>Added method getText ( page , version ) , getH...</td>\n",
       "      <td>src / com / ecyrd / jspwiki / WikiEngine . jav...</td>\n",
       "      <td>1</td>\n",
       "      <td>386</td>\n",
       "      <td>78</td>\n",
       "      <td>apache_jspwiki</td>\n",
       "    </tr>\n",
       "    <tr>\n",
       "      <th>305849</th>\n",
       "      <td>99</td>\n",
       "      <td>2001-11-23 15:10:24</td>\n",
       "      <td>Initial version of tag library object for quer...</td>\n",
       "      <td>new file \\n src / com / ecyrd / jspwiki / tags...</td>\n",
       "      <td>1</td>\n",
       "      <td>1467</td>\n",
       "      <td>47</td>\n",
       "      <td>apache_jspwiki</td>\n",
       "    </tr>\n",
       "    <tr>\n",
       "      <th>305850</th>\n",
       "      <td>99</td>\n",
       "      <td>2001-11-23 15:24:39</td>\n",
       "      <td>Modified to store WikiLinks encountered during...</td>\n",
       "      <td>src / com / ecyrd / jspwiki / TranslatorReader...</td>\n",
       "      <td>1</td>\n",
       "      <td>341</td>\n",
       "      <td>53</td>\n",
       "      <td>apache_jspwiki</td>\n",
       "    </tr>\n",
       "    <tr>\n",
       "      <th>305851</th>\n",
       "      <td>99</td>\n",
       "      <td>2001-11-23 15:26:05</td>\n",
       "      <td>Modified to create a static ReferenceManager ,...</td>\n",
       "      <td>src / com / ecyrd / jspwiki / WikiEngine . jav...</td>\n",
       "      <td>1</td>\n",
       "      <td>791</td>\n",
       "      <td>80</td>\n",
       "      <td>apache_jspwiki</td>\n",
       "    </tr>\n",
       "  </tbody>\n",
       "</table>\n",
       "</div>"
      ],
      "text/plain": [
       "         author                date  \\\n",
       "1473662      97 2014-05-11 21:19:07   \n",
       "305788       99 2001-10-24 09:07:36   \n",
       "305849       99 2001-11-23 15:10:24   \n",
       "305850       99 2001-11-23 15:24:39   \n",
       "305851       99 2001-11-23 15:26:05   \n",
       "\n",
       "                                                   message  \\\n",
       "1473662                    And re - add renamed file . . .   \n",
       "305788   Added method getText ( page , version ) , getH...   \n",
       "305849   Initial version of tag library object for quer...   \n",
       "305850   Modified to store WikiLinks encountered during...   \n",
       "305851   Modified to create a static ReferenceManager ,...   \n",
       "\n",
       "                                                      diff  num_mods  \\\n",
       "1473662  src / main / java / org / spongepowered / api ...         3   \n",
       "305788   src / com / ecyrd / jspwiki / WikiEngine . jav...         1   \n",
       "305849   new file \\n src / com / ecyrd / jspwiki / tags...         1   \n",
       "305850   src / com / ecyrd / jspwiki / TranslatorReader...         1   \n",
       "305851   src / com / ecyrd / jspwiki / WikiEngine . jav...         1   \n",
       "\n",
       "         diff_len  message_len                     repo  \n",
       "1473662       122            9  spongepowered_spongeapi  \n",
       "305788        386           78           apache_jspwiki  \n",
       "305849       1467           47           apache_jspwiki  \n",
       "305850        341           53           apache_jspwiki  \n",
       "305851        791           80           apache_jspwiki  "
      ]
     },
     "execution_count": 19,
     "metadata": {},
     "output_type": "execute_result"
    }
   ],
   "source": [
    "train_df.head()"
   ]
  },
  {
   "cell_type": "code",
   "execution_count": 22,
   "metadata": {
    "pycharm": {
     "name": "#%%\n"
    }
   },
   "outputs": [
    {
     "data": {
      "text/plain": [
       "57116"
      ]
     },
     "execution_count": 22,
     "metadata": {},
     "output_type": "execute_result"
    }
   ],
   "source": [
    "train_df['author'].nunique()"
   ]
  },
  {
   "cell_type": "code",
   "execution_count": 23,
   "metadata": {
    "pycharm": {
     "name": "#%%\n"
    }
   },
   "outputs": [
    {
     "data": {
      "text/plain": [
       "1022"
      ]
     },
     "execution_count": 23,
     "metadata": {},
     "output_type": "execute_result"
    }
   ],
   "source": [
    "val_df['author'].nunique()"
   ]
  },
  {
   "cell_type": "code",
   "execution_count": 24,
   "metadata": {},
   "outputs": [
    {
     "data": {
      "text/plain": [
       "437"
      ]
     },
     "execution_count": 24,
     "metadata": {},
     "output_type": "execute_result"
    }
   ],
   "source": [
    "test_df['author'].nunique()"
   ]
  },
  {
   "cell_type": "code",
   "execution_count": 21,
   "metadata": {},
   "outputs": [],
   "source": [
    "train_df[['diff', 'message', 'author']].to_csv('train.csv', header=None, index=None)\n",
    "val_df[['diff', 'message', 'author']].to_csv('val.csv', header=None, index=None)\n",
    "test_df[['diff', 'message', 'author']].to_csv('test.csv', header=None, index=None)"
   ]
  },
  {
   "cell_type": "markdown",
   "metadata": {},
   "source": [
    "Код, если все-таки захочется сохранить датасет в виде трех отдельных файлов:"
   ]
  },
  {
   "cell_type": "code",
   "execution_count": 50,
   "metadata": {},
   "outputs": [],
   "source": [
    "def save_df(df, folder):\n",
    "    msgs = list(item[1]+'\\n' for item in df['message'].items())\n",
    "    with open(os.path.join(folder, 'msg.txt'), 'w', encoding='utf-8') as target:\n",
    "        target.writelines(msgs)\n",
    "        \n",
    "    authors = list(str(item[1])+'\\n' for item in df['author'].items())\n",
    "    with open(os.path.join(folder, 'ds.txt'), 'w', encoding='utf-8') as target:\n",
    "        target.writelines(authors)\n",
    "        \n",
    "    diffs = list(item[1]+'\\n' for item in df['diff'].items())\n",
    "    with open(os.path.join(folder, 'diff.txt'), 'w', encoding='utf-8') as target:\n",
    "        target.writelines(diffs)"
   ]
  }
 ],
 "metadata": {
  "kernelspec": {
   "display_name": "Python 3",
   "language": "python",
   "name": "python3"
  },
  "language_info": {
   "codemirror_mode": {
    "name": "ipython",
    "version": 3
   },
   "file_extension": ".py",
   "mimetype": "text/x-python",
   "name": "python",
   "nbconvert_exporter": "python",
   "pygments_lexer": "ipython3",
   "version": "3.8.5"
  }
 },
 "nbformat": 4,
 "nbformat_minor": 5
}