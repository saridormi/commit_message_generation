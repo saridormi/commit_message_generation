{
 "cells": [
  {
   "cell_type": "markdown",
   "metadata": {},
   "source": [
    "# Mining data from GitHub\n",
    "\n",
    "## Немного посмотрим на данные и приведем к удобному формату\n",
    "\n",
    "Импортируем библиотеки и создадим необходимые папки."
   ]
  },
  {
   "cell_type": "code",
   "execution_count": 1,
   "metadata": {},
   "outputs": [],
   "source": [
    "import pydriller\n",
    "import os\n",
    "import json\n",
    "from dpu_utils.utils import save_jsonl_gz, load_json_gz, RichPath\n",
    "import numpy as np\n",
    "\n",
    "from collections import namedtuple, defaultdict\n",
    "import json\n",
    "from tqdm import tqdm\n",
    "from joblib import Parallel, delayed, cpu_count\n",
    "%load_ext autoreload\n",
    "%autoreload 2\n",
    "\n",
    "os.chdir('D:\\github_data')\n",
    "\n",
    "commit_data_dir = 'extracted_data'\n",
    "os.makedirs(commit_data_dir, exist_ok=True)"
   ]
  },
  {
   "cell_type": "markdown",
   "metadata": {},
   "source": [
    "Попробуем запустить `RepositoryMining` для конкретного репозитория и посмотреть на пару примеров."
   ]
  },
  {
   "cell_type": "code",
   "execution_count": 2,
   "metadata": {},
   "outputs": [
    {
     "name": "stdout",
     "output_type": "stream",
     "text": [
      "Author: Ben Alpert\n",
      "commited at: 2015-01-29 17:10:49-08:00\n",
      "message: Initial commit\n",
      "number of modifications: 382\n",
      "\n",
      "Author: Alex Kotliarskyi\n",
      "commited at: 2015-01-30 10:17:28-08:00\n",
      "message: Added ability to jump to syntax errors from RedBox\n",
      "number of modifications: 1\n",
      "\n",
      "modified: RCTRootView.m\n",
      "modification type: ModificationType.MODIFY\n",
      "with diff \n",
      "@@ -90,7 +90,12 @@ NSString *const RCTRootViewReloadNotification = @\"RCTRootViewReloadNotification\"\n",
      " - (void)bundleFinishedLoading:(NSError *)error\n",
      " {\n",
      "   if (error != nil) {\n",
      "-    [[RCTRedBox sharedInstance] showErrorMessage:error.localizedDescription withDetails:error.localizedFailureReason];\n",
      "+    NSArray *stack = [[error userInfo] objectForKey:@\"stack\"];\n",
      "+    if (stack) {\n",
      "+      [[RCTRedBox sharedInstance] showErrorMessage:[error localizedDescription] withStack:stack];\n",
      "+    } else {\n",
      "+      [[RCTRedBox sharedInstance] showErrorMessage:[error localizedDescription] withDetails:[error localizedFailureReason]];\n",
      "+    }\n",
      "   } else {\n",
      "     \n",
      "     [_bridge.uiManager registerRootView:self];\n",
      "\n",
      "\n"
     ]
    }
   ],
   "source": [
    "repo = pydriller.RepositoryMining('temp/react-native')\n",
    "for i, commit in enumerate(repo.traverse_commits()):   \n",
    "    print(\"Author: {}\".format(commit.author.name),\n",
    "          \"commited at: {}\".format(commit.author_date),\n",
    "          \"message: {}\".format(commit.msg),\n",
    "          \"number of modifications: {}\".format(len(commit.modifications)),\n",
    "          sep='\\n')\n",
    "    print()\n",
    "\n",
    "    if i == 1: \n",
    "        for m in  commit.modifications:\n",
    "            print(\"modified: {}\".format(m.filename),\n",
    "                  \"modification type: {}\".format(m.change_type),\n",
    "                  \"with diff \\n{}\".format(m.diff),\n",
    "                  sep='\\n')\n",
    "            print()\n",
    "            break\n",
    "        break"
   ]
  },
  {
   "cell_type": "markdown",
   "metadata": {},
   "source": [
    "### Отличия от открытого датасета\n",
    "\n",
    "Дифф немного отличается от формате в открытом датасета, который я использовала ранее:\n",
    "\n",
    "1. Нет каких-то дополнительных конструкций в начале диффа. Например, в случае добавления файла перед основным диффом было еще что-то такое:\n",
    "\n",
    "    ```\n",
    "    new file mode 100644\n",
    "    index 00000000000 . . 99a8c86917d\n",
    "    mmm / dev / null\n",
    "    ppp b / docs / cas - server - documentation / protocol / Protocol - Overview . md\n",
    "    ```\n",
    "\n",
    "    Вроде как не хватает флага `--summary` в `git diff` (это мое предположение, не нашла в статье Jiang et al., какой именно дифф они использовали), а еще в `pydriller` нет удобной возможности его добавить :( \n",
    "    Самое простое - вручную генерировать подобные строчки перед основным диффом в соответствии с `ModificationType`. Но в открытом датасете было очень много строчек вида `Binary files x and y differ`, не очень понятно, будут ли они здесь вообще.\n",
    "\n",
    "2. В одном коммите может быть несколько изменений, у каждого свой дифф. В открытом датасете же во всех примерах изменяется только один файл. \n",
    "\n",
    "    Можно попробовать конкатенировать диффы из всех изменений, но мы в любом случае не сможем обрабатывать бесконечно длинные диффы, нужно придумать, что делать с такими коммитами - просто отбрасывать/брать какую-то часть диффов/etc.?\n",
    "\n",
    "\n",
    "### Предобработка данных для каждого коммита\n",
    "\n",
    "Хочется сохранить следующую информацию для каждого коммита:\n",
    "\n",
    "* автор\n",
    "* дата\n",
    "* сообщение\n",
    "* диффы из всех изменений (потом решим, что с этим делать)\n",
    "\n",
    "При этом каждый дифф нужно немного предобработать:\n",
    "\n",
    "1. Добавить префикс на основе ModificationType\n",
    "\n",
    "    <details>\n",
    "      <summary>Подробнее про префиксы</summary>\n",
    "\n",
    "      Есть следующие типы изменений: `ADD, COPY, RENAME, DELETE, MODIFY, UNKNOWN`.  \n",
    "\n",
    "      * в случае `ADD` добавить что-то вроде \n",
    "        ```\n",
    "        new file\n",
    "        {название файла}\n",
    "        ```\n",
    "\n",
    "    * `COPY` можно совсем отбросить\n",
    "\n",
    "    * в случае `RENAME` добавить что-то вроде \n",
    "\n",
    "        ```\n",
    "        rename from {название файла до}\n",
    "        rename to {название файла после}\n",
    "        ```\n",
    "\n",
    "    * в случае `DELETE` добавить что-то вроде\n",
    "\n",
    "        ```\n",
    "        deleted file\n",
    "        {название файла}\n",
    "        ```\n",
    "\n",
    "    * в случае `MODIFY` добавить что-то вроде\n",
    "\n",
    "        ```\n",
    "        {название файла}\n",
    "        ```\n",
    "\n",
    "    * `UNKNOWN` можно совсем отбросить\n",
    "    </details>\n",
    "\n",
    "2. Убрать ненужные \"служебные\" строчки\n",
    "3. Выделить знаки пунктуации пробелами\n",
    "4. Удалить неизмененные строчки \n",
    "    (просто чтобы хоть немного сократить диффы, на открытом датасете такой подход показал себя хорошо)\n",
    "\n",
    "Для этого я написала небольшой класс, посмотрим на результат его работы:"
   ]
  },
  {
   "cell_type": "code",
   "execution_count": 3,
   "metadata": {},
   "outputs": [
    {
     "data": {
      "text/plain": [
       "{'author': ('Alex Kotliarskyi', 'alex.frantic@gmail.com'),\n",
       " 'date': '30.01.2015 10:17:28',\n",
       " 'message': 'Added ability to jump to syntax errors from RedBox',\n",
       " 'diff': ['ReactKit \\\\ Base \\\\ RCTRootView . m \\\\n - ( void ) bundleFinishedLoading : ( NSError * ) error \\\\n - [ [ RCTRedBox sharedInstance ] showErrorMessage : error . localizedDescription withDetails : error . localizedFailureReason ] ; \\\\n + NSArray * stack = [ [ error userInfo ] objectForKey : @ \" stack \" ] ; \\\\n + if ( stack ) { \\\\n + [ [ RCTRedBox sharedInstance ] showErrorMessage : [ error localizedDescription ] withStack : stack ] ; \\\\n + } else { \\\\n + [ [ RCTRedBox sharedInstance ] showErrorMessage : [ error localizedDescription ] withDetails : [ error localizedFailureReason ] ] ; \\\\n + } \\\\n']}"
      ]
     },
     "execution_count": 3,
     "metadata": {},
     "output_type": "execute_result"
    }
   ],
   "source": [
    "from commit_processor import CommitProcessor\n",
    "\n",
    "\n",
    "repo = pydriller.RepositoryMining('temp/react-native')\n",
    "for i, commit in enumerate(repo.traverse_commits()):\n",
    "    if i == 0:\n",
    "        continue # first example is kinda huge\n",
    "    a = CommitProcessor.process_commit(commit)\n",
    "    break\n",
    "a"
   ]
  },
  {
   "cell_type": "markdown",
   "metadata": {},
   "source": [
    "## Начнем собирать данные\n",
    "\n",
    "> На данный момент данные собираются из репозиториев, предоставленных в датасете для NNGen. \n",
    "  Возможно, стоит вместо этого посмотреть топ N Java-репозиториев на данный момент.\n",
    "  \n",
    "Выгрузим из текстового файла названия репозиториев и ссылки на них."
   ]
  },
  {
   "cell_type": "code",
   "execution_count": 4,
   "metadata": {},
   "outputs": [],
   "source": [
    "# read urls of github repos to scrape from repo-id-to-github.txt\n",
    "# TODO: better to scrape top-30 Java repos from GitHub API?\n",
    "with open('repo-id-to-github.txt', 'r') as file:\n",
    "    repo_dict = {line.strip().split()[1] : line.strip().split()[2] for line in file.readlines()[:75]}\n",
    "    \n",
    "repo_list = list(repo_dict.keys())"
   ]
  },
  {
   "cell_type": "markdown",
   "metadata": {},
   "source": [
    "Соберем из 75 репозиториев по ~1000 последних коммитов, удовлетворяющих ограничениям на длину диффов и сообщений."
   ]
  },
  {
   "cell_type": "code",
   "execution_count": 5,
   "metadata": {},
   "outputs": [],
   "source": [
    "from process_repo import process_repo  # getting error if I don't move this to separate .py file\n",
    "\n",
    "with Parallel(cpu_count()) as pool:\n",
    "    data = pool(delayed(process_repo)(repo_name, repo_dict[repo_name]) for repo_name in repo_list)"
   ]
  },
  {
   "cell_type": "markdown",
   "metadata": {},
   "source": [
    "## Немного посмотрим на собранные данные\n",
    "\n",
    "Для начала загрузим их в один датафрейм."
   ]
  },
  {
   "cell_type": "code",
   "execution_count": 5,
   "metadata": {},
   "outputs": [
    {
     "name": "stderr",
     "output_type": "stream",
     "text": [
      "100%|██████████████████████████████████████████████████████████████████████████████████| 75/75 [00:06<00:00, 12.41it/s]\n"
     ]
    }
   ],
   "source": [
    "import pandas as pd\n",
    "import matplotlib.pyplot as plt\n",
    "import seaborn as sns\n",
    "import gzip\n",
    "\n",
    "pd.options.display.float_format = '{:.2f}'.format\n",
    "\n",
    "\n",
    "dfs = []\n",
    "\n",
    "for filename in tqdm(os.listdir(commit_data_dir)):\n",
    "    with gzip.open(os.path.join(commit_data_dir, filename)) as f:\n",
    "        df = pd.read_json(f, lines=True)\n",
    "        df['repo'] = f'{filename.split(\".jsonl.gz\")[0]}'\n",
    "        dfs.append(df)"
   ]
  },
  {
   "cell_type": "code",
   "execution_count": 6,
   "metadata": {},
   "outputs": [
    {
     "data": {
      "text/html": [
       "<div>\n",
       "<style scoped>\n",
       "    .dataframe tbody tr th:only-of-type {\n",
       "        vertical-align: middle;\n",
       "    }\n",
       "\n",
       "    .dataframe tbody tr th {\n",
       "        vertical-align: top;\n",
       "    }\n",
       "\n",
       "    .dataframe thead th {\n",
       "        text-align: right;\n",
       "    }\n",
       "</style>\n",
       "<table border=\"1\" class=\"dataframe\">\n",
       "  <thead>\n",
       "    <tr style=\"text-align: right;\">\n",
       "      <th></th>\n",
       "      <th>author</th>\n",
       "      <th>date</th>\n",
       "      <th>message</th>\n",
       "      <th>diff</th>\n",
       "      <th>repo</th>\n",
       "      <th>diff_len</th>\n",
       "      <th>message_len</th>\n",
       "    </tr>\n",
       "  </thead>\n",
       "  <tbody>\n",
       "    <tr>\n",
       "      <th>0</th>\n",
       "      <td>(Jake Wharton, jw@squareup.com)</td>\n",
       "      <td>2013-07-29 09:09:07</td>\n",
       "      <td>[ maven - release - plugin ] prepare release 4...</td>\n",
       "      <td>[actionbarsherlock - fest \\ pom . xml \\n - &lt; v...</td>\n",
       "      <td>ActionBarSherlock</td>\n",
       "      <td>410</td>\n",
       "      <td>14</td>\n",
       "    </tr>\n",
       "    <tr>\n",
       "      <th>1</th>\n",
       "      <td>(googolmo, googolmo@gmail.com)</td>\n",
       "      <td>2013-07-15 10:31:48</td>\n",
       "      <td>update android build tools to 0 . 5 . +</td>\n",
       "      <td>[build . gradle \\n - classpath ' com . android...</td>\n",
       "      <td>ActionBarSherlock</td>\n",
       "      <td>52</td>\n",
       "      <td>10</td>\n",
       "    </tr>\n",
       "    <tr>\n",
       "      <th>2</th>\n",
       "      <td>(Jake Wharton, jw@squareup.com)</td>\n",
       "      <td>2013-02-07 22:23:04</td>\n",
       "      <td>Use ' sw ' and ' w ' qualifiers on ICS + only .</td>\n",
       "      <td>[actionbarsherlock \\ src \\ com \\ actionbarsher...</td>\n",
       "      <td>ActionBarSherlock</td>\n",
       "      <td>64</td>\n",
       "      <td>14</td>\n",
       "    </tr>\n",
       "    <tr>\n",
       "      <th>3</th>\n",
       "      <td>(Jake Wharton, jw@squareup.com)</td>\n",
       "      <td>2013-02-07 21:26:41</td>\n",
       "      <td>Mention the ' library ' folder is now called '...</td>\n",
       "      <td>[website \\ faq . html \\n + &lt; p &gt; &lt; em &gt; Note :...</td>\n",
       "      <td>ActionBarSherlock</td>\n",
       "      <td>47</td>\n",
       "      <td>18</td>\n",
       "    </tr>\n",
       "    <tr>\n",
       "      <th>4</th>\n",
       "      <td>(bbcallen, bbcallen@gmail.com)</td>\n",
       "      <td>2013-06-27 13:35:18</td>\n",
       "      <td>abs _ _ search _ view . xml : remove android n...</td>\n",
       "      <td>[actionbarsherlock \\ res \\ layout \\ abs _ _ se...</td>\n",
       "      <td>ActionBarSherlock</td>\n",
       "      <td>37</td>\n",
       "      <td>24</td>\n",
       "    </tr>\n",
       "  </tbody>\n",
       "</table>\n",
       "</div>"
      ],
      "text/plain": [
       "                            author                date  \\\n",
       "0  (Jake Wharton, jw@squareup.com) 2013-07-29 09:09:07   \n",
       "1   (googolmo, googolmo@gmail.com) 2013-07-15 10:31:48   \n",
       "2  (Jake Wharton, jw@squareup.com) 2013-02-07 22:23:04   \n",
       "3  (Jake Wharton, jw@squareup.com) 2013-02-07 21:26:41   \n",
       "4   (bbcallen, bbcallen@gmail.com) 2013-06-27 13:35:18   \n",
       "\n",
       "                                             message  \\\n",
       "0  [ maven - release - plugin ] prepare release 4...   \n",
       "1            update android build tools to 0 . 5 . +   \n",
       "2    Use ' sw ' and ' w ' qualifiers on ICS + only .   \n",
       "3  Mention the ' library ' folder is now called '...   \n",
       "4  abs _ _ search _ view . xml : remove android n...   \n",
       "\n",
       "                                                diff               repo  \\\n",
       "0  [actionbarsherlock - fest \\ pom . xml \\n - < v...  ActionBarSherlock   \n",
       "1  [build . gradle \\n - classpath ' com . android...  ActionBarSherlock   \n",
       "2  [actionbarsherlock \\ src \\ com \\ actionbarsher...  ActionBarSherlock   \n",
       "3  [website \\ faq . html \\n + < p > < em > Note :...  ActionBarSherlock   \n",
       "4  [actionbarsherlock \\ res \\ layout \\ abs _ _ se...  ActionBarSherlock   \n",
       "\n",
       "   diff_len  message_len  \n",
       "0       410           14  \n",
       "1        52           10  \n",
       "2        64           14  \n",
       "3        47           18  \n",
       "4        37           24  "
      ]
     },
     "execution_count": 6,
     "metadata": {},
     "output_type": "execute_result"
    }
   ],
   "source": [
    "df = pd.concat(dfs, ignore_index=True, axis=0)\n",
    "df.author = df.author.apply(lambda x: tuple(x))\n",
    "df['diff_len'] = df['diff'].apply(lambda x: sum([len(diff.split()) for diff in x]))\n",
    "df['message_len'] = df['message'].apply(lambda x: len(x.split()))\n",
    "df.drop(df[df['diff_len'] == 0].index, inplace=True)\n",
    "df.head()"
   ]
  },
  {
   "cell_type": "code",
   "execution_count": 7,
   "metadata": {},
   "outputs": [
    {
     "data": {
      "text/plain": [
       "33270"
      ]
     },
     "execution_count": 7,
     "metadata": {},
     "output_type": "execute_result"
    }
   ],
   "source": [
    "len(df)"
   ]
  },
  {
   "cell_type": "markdown",
   "metadata": {},
   "source": [
    "### Статистика по коммитам для каждого автора"
   ]
  },
  {
   "cell_type": "code",
   "execution_count": 8,
   "metadata": {},
   "outputs": [
    {
     "data": {
      "text/plain": [
       "count   5188.00\n",
       "mean       6.41\n",
       "std       30.87\n",
       "min        1.00\n",
       "25%        1.00\n",
       "50%        1.00\n",
       "75%        2.00\n",
       "max      894.00\n",
       "Name: date, dtype: float64"
      ]
     },
     "execution_count": 8,
     "metadata": {},
     "output_type": "execute_result"
    }
   ],
   "source": [
    "author_df = df.groupby(by='author')['date'].count()\n",
    "author_df.describe()"
   ]
  },
  {
   "cell_type": "markdown",
   "metadata": {},
   "source": [
    "Всего есть 5188 уникальных авторов, у большинства из них очень мало коммитов, что печально. Попробуем оставить только авторов, у которых есть хотя бы 6 коммитов."
   ]
  },
  {
   "cell_type": "code",
   "execution_count": 9,
   "metadata": {},
   "outputs": [],
   "source": [
    "author_list = author_df.index[author_df > 5].tolist()\n",
    "df = df.loc[df['author'].isin(author_list)]"
   ]
  },
  {
   "cell_type": "code",
   "execution_count": 10,
   "metadata": {},
   "outputs": [
    {
     "data": {
      "image/png": "[encoded data removed]",
      "text/plain": [
       "<Figure size 432x288 with 1 Axes>"
      ]
     },
     "metadata": {
      "needs_background": "light"
     },
     "output_type": "display_data"
    }
   ],
   "source": [
    "sns.histplot(x='date', data=df.groupby(by='author')['date'].count().reset_index(), stat='density')\n",
    "plt.show()"
   ]
  },
  {
   "cell_type": "code",
   "execution_count": 11,
   "metadata": {},
   "outputs": [
    {
     "name": "stdout",
     "output_type": "stream",
     "text": [
      "26549\n",
      "707\n"
     ]
    }
   ],
   "source": [
    "print(len(df))\n",
    "print(len(author_list))"
   ]
  },
  {
   "cell_type": "markdown",
   "metadata": {},
   "source": [
    "Таких авторов всего 707, и при этом мы теряем ~7000 примеров."
   ]
  },
  {
   "cell_type": "markdown",
   "metadata": {},
   "source": [
    "### Статистика по количеству токенов в диффах\n",
    "\n",
    "В данном случае токенизация проводится просто разделением по пробелам. При сборе данных отбрасываются все примеры, где в диффах более 512 токенов (это максимальная длина входных данных для RoBERTa). Понятно, что при использовании другого токенизатора может получиться другое количество токенов, но мне показалось, что учитывать именно токенизатор RoBERTa при сборе данных будет как-то долго и громоздко."
   ]
  },
  {
   "cell_type": "code",
   "execution_count": 12,
   "metadata": {},
   "outputs": [
    {
     "data": {
      "text/plain": [
       "count   26549.00\n",
       "mean      176.17\n",
       "std       133.31\n",
       "min         5.00\n",
       "25%        62.00\n",
       "50%       135.00\n",
       "75%       264.00\n",
       "max       512.00\n",
       "Name: diff_len, dtype: float64"
      ]
     },
     "execution_count": 12,
     "metadata": {},
     "output_type": "execute_result"
    }
   ],
   "source": [
    "df['diff_len'].describe()"
   ]
  },
  {
   "cell_type": "code",
   "execution_count": 13,
   "metadata": {},
   "outputs": [
    {
     "data": {
      "image/png": "[encoded data removed]",
      "text/plain": [
       "<Figure size 432x288 with 1 Axes>"
      ]
     },
     "metadata": {
      "needs_background": "light"
     },
     "output_type": "display_data"
    }
   ],
   "source": [
    "sns.histplot(df['diff_len'], stat='density')\n",
    "plt.show()"
   ]
  },
  {
   "cell_type": "markdown",
   "metadata": {},
   "source": [
    "В целом, большинство диффов не такие уж и длинные - 75% имеют не более 264 токенов."
   ]
  },
  {
   "cell_type": "markdown",
   "metadata": {},
   "source": [
    "### Статистика по количеству токенов в сообщениях"
   ]
  },
  {
   "cell_type": "markdown",
   "metadata": {},
   "source": [
    "Аналогично диффам, сообщения разбиваются на токены по пробелам, и примеры с сообщениями с более чем 512 токенами были отброшены еще на этапе сбора. Посмотрим на статистику по оставшимся."
   ]
  },
  {
   "cell_type": "code",
   "execution_count": 14,
   "metadata": {},
   "outputs": [
    {
     "data": {
      "text/plain": [
       "count   26549.00\n",
       "mean       32.09\n",
       "std        39.96\n",
       "min         8.00\n",
       "25%        11.00\n",
       "50%        16.00\n",
       "75%        37.00\n",
       "max       502.00\n",
       "Name: message_len, dtype: float64"
      ]
     },
     "execution_count": 14,
     "metadata": {},
     "output_type": "execute_result"
    }
   ],
   "source": [
    "df['message_len'].describe()"
   ]
  },
  {
   "cell_type": "code",
   "execution_count": 15,
   "metadata": {},
   "outputs": [
    {
     "data": {
      "text/plain": [
       "16.0"
      ]
     },
     "execution_count": 15,
     "metadata": {},
     "output_type": "execute_result"
    }
   ],
   "source": [
    "df['message_len'].median()"
   ]
  },
  {
   "cell_type": "code",
   "execution_count": 16,
   "metadata": {},
   "outputs": [
    {
     "data": {
      "image/png": "[encoded data removed]",
      "text/plain": [
       "<Figure size 432x288 with 1 Axes>"
      ]
     },
     "metadata": {
      "needs_background": "light"
     },
     "output_type": "display_data"
    }
   ],
   "source": [
    "sns.histplot(df['message_len'], stat='density')\n",
    "plt.show()"
   ]
  },
  {
   "cell_type": "markdown",
   "metadata": {},
   "source": [
    "В целом, большинство сообщений действительно очень короткие: 75% имеют не более 37 токенов."
   ]
  },
  {
   "cell_type": "markdown",
   "metadata": {},
   "source": [
    "### Сохраним данные в формате открытого датасета"
   ]
  },
  {
   "cell_type": "markdown",
   "metadata": {},
   "source": [
    "Открытый датасет был разбит на trait и test части, в каждой из них хранилось по три файла: с сообщениями, с диффами, и с id репозитория. Сделаем примерно то же самое, но с id автора, а еще отсортируем по времени."
   ]
  },
  {
   "cell_type": "code",
   "execution_count": 17,
   "metadata": {},
   "outputs": [],
   "source": [
    "# отсортируем датафрейм так, чтобы у каждого автора коммиты шли в соответствии с датой, от самых ранних к самым поздним\n",
    "df.sort_values(by=['author', 'date'], inplace=True)\n",
    "\n",
    "# заменим авторов на что-то вроде id, чтобы было проще\n",
    "from sklearn.preprocessing import LabelEncoder\n",
    "\n",
    "le = LabelEncoder()\n",
    "df['author'] = df['author'].apply(lambda x: x[0] + '<SEP>' + x[1]) # label encoder doesn't work with tuples\n",
    "df['author'] = le.fit_transform(df['author'])\n",
    "\n",
    "# сделаем из диффов-списков диффы-строки\n",
    "df['diff'] = df['diff'].apply(lambda x: ' '.join(x))"
   ]
  },
  {
   "cell_type": "code",
   "execution_count": 18,
   "metadata": {},
   "outputs": [
    {
     "data": {
      "text/html": [
       "<div>\n",
       "<style scoped>\n",
       "    .dataframe tbody tr th:only-of-type {\n",
       "        vertical-align: middle;\n",
       "    }\n",
       "\n",
       "    .dataframe tbody tr th {\n",
       "        vertical-align: top;\n",
       "    }\n",
       "\n",
       "    .dataframe thead th {\n",
       "        text-align: right;\n",
       "    }\n",
       "</style>\n",
       "<table border=\"1\" class=\"dataframe\">\n",
       "  <thead>\n",
       "    <tr style=\"text-align: right;\">\n",
       "      <th></th>\n",
       "      <th>author</th>\n",
       "      <th>date</th>\n",
       "      <th>message</th>\n",
       "      <th>diff</th>\n",
       "      <th>repo</th>\n",
       "      <th>diff_len</th>\n",
       "      <th>message_len</th>\n",
       "    </tr>\n",
       "  </thead>\n",
       "  <tbody>\n",
       "    <tr>\n",
       "      <th>19930</th>\n",
       "      <td>0</td>\n",
       "      <td>2020-01-09 14:20:10</td>\n",
       "      <td>Fix JavaDoc of RuleBasedIpFilter ( # 10521 ) \\...</td>\n",
       "      <td>handler \\ src \\ main \\ java \\ io \\ netty \\ han...</td>\n",
       "      <td>netty</td>\n",
       "      <td>51</td>\n",
       "      <td>70</td>\n",
       "    </tr>\n",
       "    <tr>\n",
       "      <th>19880</th>\n",
       "      <td>0</td>\n",
       "      <td>2020-02-11 13:07:13</td>\n",
       "      <td>Fix typo in Http2FrameCodec # write ( . . . ) ...</td>\n",
       "      <td>codec - http2 \\ src \\ main \\ java \\ io \\ netty...</td>\n",
       "      <td>netty</td>\n",
       "      <td>71</td>\n",
       "      <td>99</td>\n",
       "    </tr>\n",
       "    <tr>\n",
       "      <th>19879</th>\n",
       "      <td>0</td>\n",
       "      <td>2020-02-11 19:25:51</td>\n",
       "      <td>Remove extra empty line ( # 10754 ) \\n Motivat...</td>\n",
       "      <td>codec - http2 \\ src \\ main \\ java \\ io \\ netty...</td>\n",
       "      <td>netty</td>\n",
       "      <td>26</td>\n",
       "      <td>60</td>\n",
       "    </tr>\n",
       "    <tr>\n",
       "      <th>19878</th>\n",
       "      <td>0</td>\n",
       "      <td>2020-03-11 13:55:18</td>\n",
       "      <td>Add ` toString ` method in DefaultHttp2WindowU...</td>\n",
       "      <td>codec - http2 \\ src \\ main \\ java \\ io \\ netty...</td>\n",
       "      <td>netty</td>\n",
       "      <td>88</td>\n",
       "      <td>76</td>\n",
       "    </tr>\n",
       "    <tr>\n",
       "      <th>19877</th>\n",
       "      <td>0</td>\n",
       "      <td>2020-03-11 13:56:51</td>\n",
       "      <td>HttpConversionUtil # toHttpResponse should use...</td>\n",
       "      <td>codec - http2 \\ src \\ main \\ java \\ io \\ netty...</td>\n",
       "      <td>netty</td>\n",
       "      <td>329</td>\n",
       "      <td>115</td>\n",
       "    </tr>\n",
       "  </tbody>\n",
       "</table>\n",
       "</div>"
      ],
      "text/plain": [
       "       author                date  \\\n",
       "19930       0 2020-01-09 14:20:10   \n",
       "19880       0 2020-02-11 13:07:13   \n",
       "19879       0 2020-02-11 19:25:51   \n",
       "19878       0 2020-03-11 13:55:18   \n",
       "19877       0 2020-03-11 13:56:51   \n",
       "\n",
       "                                                 message  \\\n",
       "19930  Fix JavaDoc of RuleBasedIpFilter ( # 10521 ) \\...   \n",
       "19880  Fix typo in Http2FrameCodec # write ( . . . ) ...   \n",
       "19879  Remove extra empty line ( # 10754 ) \\n Motivat...   \n",
       "19878  Add ` toString ` method in DefaultHttp2WindowU...   \n",
       "19877  HttpConversionUtil # toHttpResponse should use...   \n",
       "\n",
       "                                                    diff   repo  diff_len  \\\n",
       "19930  handler \\ src \\ main \\ java \\ io \\ netty \\ han...  netty        51   \n",
       "19880  codec - http2 \\ src \\ main \\ java \\ io \\ netty...  netty        71   \n",
       "19879  codec - http2 \\ src \\ main \\ java \\ io \\ netty...  netty        26   \n",
       "19878  codec - http2 \\ src \\ main \\ java \\ io \\ netty...  netty        88   \n",
       "19877  codec - http2 \\ src \\ main \\ java \\ io \\ netty...  netty       329   \n",
       "\n",
       "       message_len  \n",
       "19930           70  \n",
       "19880           99  \n",
       "19879           60  \n",
       "19878           76  \n",
       "19877          115  "
      ]
     },
     "execution_count": 18,
     "metadata": {},
     "output_type": "execute_result"
    }
   ],
   "source": [
    "df.head()"
   ]
  },
  {
   "cell_type": "markdown",
   "metadata": {},
   "source": [
    "Теперь нужно как-то разделить это на условные train и test. Ни одной модели не нужно обучаться, но для distilGPT-2 предполагается наличие некоторой истории, в случае с открытым датасетом я брала её как раз из train.\n",
    "\n",
    "Пока используется такая простая идея: группируем по автору, в каждой группе берем 3 последних коммита, их используем для оценки качества моделей. Все остальные используются как история в случае distilGPT-2."
   ]
  },
  {
   "cell_type": "code",
   "execution_count": 19,
   "metadata": {},
   "outputs": [
    {
     "data": {
      "text/plain": [
       "(2121, 7)"
      ]
     },
     "execution_count": 19,
     "metadata": {},
     "output_type": "execute_result"
    }
   ],
   "source": [
    "test_idxs = df.groupby('author').apply(lambda x: x.tail(3)).index.get_level_values(1)\n",
    "test_df = df.loc[test_idxs]\n",
    "test_df.shape"
   ]
  },
  {
   "cell_type": "code",
   "execution_count": 20,
   "metadata": {},
   "outputs": [
    {
     "data": {
      "text/html": [
       "<div>\n",
       "<style scoped>\n",
       "    .dataframe tbody tr th:only-of-type {\n",
       "        vertical-align: middle;\n",
       "    }\n",
       "\n",
       "    .dataframe tbody tr th {\n",
       "        vertical-align: top;\n",
       "    }\n",
       "\n",
       "    .dataframe thead th {\n",
       "        text-align: right;\n",
       "    }\n",
       "</style>\n",
       "<table border=\"1\" class=\"dataframe\">\n",
       "  <thead>\n",
       "    <tr style=\"text-align: right;\">\n",
       "      <th></th>\n",
       "      <th>author</th>\n",
       "      <th>date</th>\n",
       "      <th>message</th>\n",
       "      <th>diff</th>\n",
       "      <th>repo</th>\n",
       "      <th>diff_len</th>\n",
       "      <th>message_len</th>\n",
       "    </tr>\n",
       "  </thead>\n",
       "  <tbody>\n",
       "    <tr>\n",
       "      <th>19911</th>\n",
       "      <td>0</td>\n",
       "      <td>2020-12-10 21:43:58</td>\n",
       "      <td>Add checkInRange in ObjectUtil ( # 10668 ) \\n ...</td>\n",
       "      <td>common \\ src \\ main \\ java \\ io \\ netty \\ util...</td>\n",
       "      <td>netty</td>\n",
       "      <td>264</td>\n",
       "      <td>75</td>\n",
       "    </tr>\n",
       "    <tr>\n",
       "      <th>19847</th>\n",
       "      <td>0</td>\n",
       "      <td>2020-12-22 23:43:33</td>\n",
       "      <td>Change switch to if ( # 10880 ) \\n Motivation ...</td>\n",
       "      <td>codec - http \\ src \\ main \\ java \\ io \\ netty ...</td>\n",
       "      <td>netty</td>\n",
       "      <td>120</td>\n",
       "      <td>64</td>\n",
       "    </tr>\n",
       "    <tr>\n",
       "      <th>19836</th>\n",
       "      <td>0</td>\n",
       "      <td>2021-01-01 23:49:44</td>\n",
       "      <td>Update BouncyCastle Libraries ( # 10906 ) \\n M...</td>\n",
       "      <td>pom . xml \\n - &lt; version &gt; 1 . 65 &lt; / version ...</td>\n",
       "      <td>netty</td>\n",
       "      <td>52</td>\n",
       "      <td>63</td>\n",
       "    </tr>\n",
       "    <tr>\n",
       "      <th>7410</th>\n",
       "      <td>1</td>\n",
       "      <td>2021-02-24 11:35:11</td>\n",
       "      <td>[ DOCS ] Remove beta admonition for runtime fi...</td>\n",
       "      <td>docs \\ painless \\ painless - contexts \\ painle...</td>\n",
       "      <td>elasticsearch</td>\n",
       "      <td>100</td>\n",
       "      <td>36</td>\n",
       "    </tr>\n",
       "    <tr>\n",
       "      <th>7593</th>\n",
       "      <td>1</td>\n",
       "      <td>2021-03-02 14:52:38</td>\n",
       "      <td>[ DOCS ] Updating ILM phase language ( # 68477 )</td>\n",
       "      <td>docs \\ reference \\ ilm \\ update - lifecycle - ...</td>\n",
       "      <td>elasticsearch</td>\n",
       "      <td>369</td>\n",
       "      <td>11</td>\n",
       "    </tr>\n",
       "    <tr>\n",
       "      <th>7805</th>\n",
       "      <td>1</td>\n",
       "      <td>2021-11-01 13:50:06</td>\n",
       "      <td>Minor revision missed in merge . ( # 67282 )</td>\n",
       "      <td>docs \\ reference \\ mapping . asciidoc \\n - app...</td>\n",
       "      <td>elasticsearch</td>\n",
       "      <td>193</td>\n",
       "      <td>10</td>\n",
       "    </tr>\n",
       "    <tr>\n",
       "      <th>21650</th>\n",
       "      <td>2</td>\n",
       "      <td>2014-08-02 19:22:58</td>\n",
       "      <td>fix # 184 : OkHttp no longer uses default ssl ...</td>\n",
       "      <td>okhttp \\ src \\ main \\ java \\ com \\ squareup \\ ...</td>\n",
       "      <td>okhttp</td>\n",
       "      <td>448</td>\n",
       "      <td>12</td>\n",
       "    </tr>\n",
       "    <tr>\n",
       "      <th>21593</th>\n",
       "      <td>2</td>\n",
       "      <td>2014-08-05 09:09:35</td>\n",
       "      <td>Remove FIXME from Huffman as it is good enough .</td>\n",
       "      <td>okhttp \\ src \\ main \\ java \\ com \\ squareup \\ ...</td>\n",
       "      <td>okhttp</td>\n",
       "      <td>27</td>\n",
       "      <td>10</td>\n",
       "    </tr>\n",
       "    <tr>\n",
       "      <th>21649</th>\n",
       "      <td>2</td>\n",
       "      <td>2014-11-02 08:58:37</td>\n",
       "      <td>Add - X to okcurl , permitting HEAD requests .</td>\n",
       "      <td>okcurl \\ src \\ main \\ java \\ com \\ squareup \\ ...</td>\n",
       "      <td>okhttp</td>\n",
       "      <td>87</td>\n",
       "      <td>10</td>\n",
       "    </tr>\n",
       "    <tr>\n",
       "      <th>23051</th>\n",
       "      <td>3</td>\n",
       "      <td>2021-01-29 12:15:00</td>\n",
       "      <td>API : Suppress existing NullableCollections li...</td>\n",
       "      <td>core \\ java \\ android \\ window \\ TaskOrganizer...</td>\n",
       "      <td>platform_frameworks_base</td>\n",
       "      <td>39</td>\n",
       "      <td>30</td>\n",
       "    </tr>\n",
       "    <tr>\n",
       "      <th>23065</th>\n",
       "      <td>3</td>\n",
       "      <td>2021-01-29 12:15:00</td>\n",
       "      <td>API : Suppress existing NullableCollections li...</td>\n",
       "      <td>core \\ java \\ android \\ content \\ AutofillOpti...</td>\n",
       "      <td>platform_frameworks_base</td>\n",
       "      <td>375</td>\n",
       "      <td>25</td>\n",
       "    </tr>\n",
       "    <tr>\n",
       "      <th>23287</th>\n",
       "      <td>3</td>\n",
       "      <td>2021-07-01 14:43:29</td>\n",
       "      <td>Add inputmethod coretests OWNERS \\n Test : n /...</td>\n",
       "      <td>new file \\n core \\ tests \\ coretests \\ src \\ a...</td>\n",
       "      <td>platform_frameworks_base</td>\n",
       "      <td>43</td>\n",
       "      <td>16</td>\n",
       "    </tr>\n",
       "    <tr>\n",
       "      <th>5287</th>\n",
       "      <td>4</td>\n",
       "      <td>2011-09-28 18:58:03</td>\n",
       "      <td>Fix issue 12 - only unmark processors as end o...</td>\n",
       "      <td>code \\ src \\ main \\ com \\ lmax \\ disruptor \\ d...</td>\n",
       "      <td>disruptor</td>\n",
       "      <td>54</td>\n",
       "      <td>21</td>\n",
       "    </tr>\n",
       "    <tr>\n",
       "      <th>5260</th>\n",
       "      <td>4</td>\n",
       "      <td>2012-02-02 09:23:04</td>\n",
       "      <td>Ensure custom event processors are included in...</td>\n",
       "      <td>code \\ src \\ main \\ com \\ lmax \\ disruptor \\ d...</td>\n",
       "      <td>disruptor</td>\n",
       "      <td>50</td>\n",
       "      <td>10</td>\n",
       "    </tr>\n",
       "    <tr>\n",
       "      <th>5219</th>\n",
       "      <td>4</td>\n",
       "      <td>2013-01-31 15:07:17</td>\n",
       "      <td>Remove EventHandlerGroup . add ( EventHandler ...</td>\n",
       "      <td>src \\ main \\ java \\ com \\ lmax \\ disruptor \\ d...</td>\n",
       "      <td>disruptor</td>\n",
       "      <td>385</td>\n",
       "      <td>16</td>\n",
       "    </tr>\n",
       "    <tr>\n",
       "      <th>18072</th>\n",
       "      <td>5</td>\n",
       "      <td>2017-07-24 13:20:10</td>\n",
       "      <td>Use implementation / api instead of compile fo...</td>\n",
       "      <td>core \\ build . gradle \\n - implementation ' co...</td>\n",
       "      <td>material-dialogs</td>\n",
       "      <td>239</td>\n",
       "      <td>9</td>\n",
       "    </tr>\n",
       "    <tr>\n",
       "      <th>18071</th>\n",
       "      <td>5</td>\n",
       "      <td>2017-08-13 10:44:11</td>\n",
       "      <td>Updated Gradle , Gradle Plugin , Support lib ,...</td>\n",
       "      <td>. travis . yml \\n - tools \\n - platform - tool...</td>\n",
       "      <td>material-dialogs</td>\n",
       "      <td>208</td>\n",
       "      <td>11</td>\n",
       "    </tr>\n",
       "    <tr>\n",
       "      <th>18066</th>\n",
       "      <td>5</td>\n",
       "      <td>2017-10-25 14:03:02</td>\n",
       "      <td>Release 0 . 9 . 5 . 0</td>\n",
       "      <td>README . md \\n - compile ' com . afollestad . ...</td>\n",
       "      <td>material-dialogs</td>\n",
       "      <td>92</td>\n",
       "      <td>8</td>\n",
       "    </tr>\n",
       "    <tr>\n",
       "      <th>17919</th>\n",
       "      <td>6</td>\n",
       "      <td>2020-09-02 11:55:39</td>\n",
       "      <td>Bottom sheets corner radius should only apply ...</td>\n",
       "      <td>bottomsheets \\ src \\ main \\ java \\ com \\ afoll...</td>\n",
       "      <td>material-dialogs</td>\n",
       "      <td>276</td>\n",
       "      <td>15</td>\n",
       "    </tr>\n",
       "    <tr>\n",
       "      <th>17916</th>\n",
       "      <td>6</td>\n",
       "      <td>2020-12-02 12:05:55</td>\n",
       "      <td>maybeSetAdditionalPadding - &gt; additionalPaddin...</td>\n",
       "      <td>core \\ src \\ main \\ java \\ com \\ afollestad \\ ...</td>\n",
       "      <td>material-dialogs</td>\n",
       "      <td>261</td>\n",
       "      <td>30</td>\n",
       "    </tr>\n",
       "    <tr>\n",
       "      <th>17906</th>\n",
       "      <td>6</td>\n",
       "      <td>2021-02-19 17:12:45</td>\n",
       "      <td>Enable android . defaultConfig . vectorDrawabl...</td>\n",
       "      <td>sample \\ build . gradle \\n + android . default...</td>\n",
       "      <td>material-dialogs</td>\n",
       "      <td>19</td>\n",
       "      <td>12</td>\n",
       "    </tr>\n",
       "    <tr>\n",
       "      <th>17934</th>\n",
       "      <td>7</td>\n",
       "      <td>2019-06-24 18:50:32</td>\n",
       "      <td>Integrate afollestad / date - picker , resolve...</td>\n",
       "      <td>datetime \\ src \\ main \\ java \\ com \\ afollesta...</td>\n",
       "      <td>material-dialogs</td>\n",
       "      <td>234</td>\n",
       "      <td>10</td>\n",
       "    </tr>\n",
       "    <tr>\n",
       "      <th>17938</th>\n",
       "      <td>7</td>\n",
       "      <td>2019-07-06 18:16:47</td>\n",
       "      <td>Fix reusability of bottom sheet dialogs . Reso...</td>\n",
       "      <td>bottomsheets \\ src \\ main \\ java \\ com \\ afoll...</td>\n",
       "      <td>material-dialogs</td>\n",
       "      <td>479</td>\n",
       "      <td>11</td>\n",
       "    </tr>\n",
       "    <tr>\n",
       "      <th>17937</th>\n",
       "      <td>7</td>\n",
       "      <td>2019-09-06 12:46:24</td>\n",
       "      <td>Fix a sample crash on pre - 21 versions</td>\n",
       "      <td>bottomsheets \\ src \\ main \\ res \\ values \\ sty...</td>\n",
       "      <td>material-dialogs</td>\n",
       "      <td>200</td>\n",
       "      <td>9</td>\n",
       "    </tr>\n",
       "    <tr>\n",
       "      <th>24336</th>\n",
       "      <td>8</td>\n",
       "      <td>2020-02-02 19:24:26</td>\n",
       "      <td>Replace Joda - Time libraries with java . time...</td>\n",
       "      <td>presto - cassandra \\ pom . xml \\n - &lt; dependen...</td>\n",
       "      <td>presto</td>\n",
       "      <td>290</td>\n",
       "      <td>51</td>\n",
       "    </tr>\n",
       "    <tr>\n",
       "      <th>23843</th>\n",
       "      <td>8</td>\n",
       "      <td>2021-02-02 18:26:59</td>\n",
       "      <td>Fix maven scope for airlift units library \\n A...</td>\n",
       "      <td>presto - memory - context \\ pom . xml \\n + &lt; !...</td>\n",
       "      <td>presto</td>\n",
       "      <td>178</td>\n",
       "      <td>26</td>\n",
       "    </tr>\n",
       "    <tr>\n",
       "      <th>23828</th>\n",
       "      <td>8</td>\n",
       "      <td>2021-02-19 12:04:45</td>\n",
       "      <td>Update build badge url from travis - ci . org ...</td>\n",
       "      <td>README . md \\n - # Presto [ ! [ Build Status ]...</td>\n",
       "      <td>presto</td>\n",
       "      <td>98</td>\n",
       "      <td>16</td>\n",
       "    </tr>\n",
       "    <tr>\n",
       "      <th>4540</th>\n",
       "      <td>9</td>\n",
       "      <td>2013-04-18 17:06:56</td>\n",
       "      <td>Fix CLJ - 1202 . \\n Emit forms like ( . foo ( ...</td>\n",
       "      <td>src \\ clj \\ clojure \\ core _ deftype . clj \\n ...</td>\n",
       "      <td>clojure</td>\n",
       "      <td>193</td>\n",
       "      <td>56</td>\n",
       "    </tr>\n",
       "    <tr>\n",
       "      <th>4538</th>\n",
       "      <td>9</td>\n",
       "      <td>2013-06-03 13:00:28</td>\n",
       "      <td>Make Delay save and rethrow exceptions it enco...</td>\n",
       "      <td>src \\ jvm \\ clojure \\ lang \\ Delay . java \\n +...</td>\n",
       "      <td>clojure</td>\n",
       "      <td>311</td>\n",
       "      <td>25</td>\n",
       "    </tr>\n",
       "    <tr>\n",
       "      <th>4176</th>\n",
       "      <td>9</td>\n",
       "      <td>2016-01-18 17:28:38</td>\n",
       "      <td>CLJ - 1423 Allow vars to be invoked with infin...</td>\n",
       "      <td>src \\ jvm \\ clojure \\ lang \\ Var . java \\n - r...</td>\n",
       "      <td>clojure</td>\n",
       "      <td>159</td>\n",
       "      <td>27</td>\n",
       "    </tr>\n",
       "    <tr>\n",
       "      <th>7603</th>\n",
       "      <td>10</td>\n",
       "      <td>2021-03-02 10:20:46</td>\n",
       "      <td>Remove MapperService . getObjectMapper ( ) ( #...</td>\n",
       "      <td>server \\ src \\ main \\ java \\ org \\ elasticsear...</td>\n",
       "      <td>elasticsearch</td>\n",
       "      <td>220</td>\n",
       "      <td>40</td>\n",
       "    </tr>\n",
       "    <tr>\n",
       "      <th>7873</th>\n",
       "      <td>10</td>\n",
       "      <td>2021-04-01 11:02:29</td>\n",
       "      <td>Mute DateMathExpressionResolverTests # testExp...</td>\n",
       "      <td>server \\ src \\ test \\ java \\ org \\ elasticsear...</td>\n",
       "      <td>elasticsearch</td>\n",
       "      <td>45</td>\n",
       "      <td>10</td>\n",
       "    </tr>\n",
       "    <tr>\n",
       "      <th>7812</th>\n",
       "      <td>10</td>\n",
       "      <td>2021-11-01 15:03:10</td>\n",
       "      <td>Don ' t use hppc ObjectObjectMap in ParseConte...</td>\n",
       "      <td>server \\ src \\ main \\ java \\ org \\ elasticsear...</td>\n",
       "      <td>elasticsearch</td>\n",
       "      <td>292</td>\n",
       "      <td>33</td>\n",
       "    </tr>\n",
       "  </tbody>\n",
       "</table>\n",
       "</div>"
      ],
      "text/plain": [
       "       author                date  \\\n",
       "19911       0 2020-12-10 21:43:58   \n",
       "19847       0 2020-12-22 23:43:33   \n",
       "19836       0 2021-01-01 23:49:44   \n",
       "7410        1 2021-02-24 11:35:11   \n",
       "7593        1 2021-03-02 14:52:38   \n",
       "7805        1 2021-11-01 13:50:06   \n",
       "21650       2 2014-08-02 19:22:58   \n",
       "21593       2 2014-08-05 09:09:35   \n",
       "21649       2 2014-11-02 08:58:37   \n",
       "23051       3 2021-01-29 12:15:00   \n",
       "23065       3 2021-01-29 12:15:00   \n",
       "23287       3 2021-07-01 14:43:29   \n",
       "5287        4 2011-09-28 18:58:03   \n",
       "5260        4 2012-02-02 09:23:04   \n",
       "5219        4 2013-01-31 15:07:17   \n",
       "18072       5 2017-07-24 13:20:10   \n",
       "18071       5 2017-08-13 10:44:11   \n",
       "18066       5 2017-10-25 14:03:02   \n",
       "17919       6 2020-09-02 11:55:39   \n",
       "17916       6 2020-12-02 12:05:55   \n",
       "17906       6 2021-02-19 17:12:45   \n",
       "17934       7 2019-06-24 18:50:32   \n",
       "17938       7 2019-07-06 18:16:47   \n",
       "17937       7 2019-09-06 12:46:24   \n",
       "24336       8 2020-02-02 19:24:26   \n",
       "23843       8 2021-02-02 18:26:59   \n",
       "23828       8 2021-02-19 12:04:45   \n",
       "4540        9 2013-04-18 17:06:56   \n",
       "4538        9 2013-06-03 13:00:28   \n",
       "4176        9 2016-01-18 17:28:38   \n",
       "7603       10 2021-03-02 10:20:46   \n",
       "7873       10 2021-04-01 11:02:29   \n",
       "7812       10 2021-11-01 15:03:10   \n",
       "\n",
       "                                                 message  \\\n",
       "19911  Add checkInRange in ObjectUtil ( # 10668 ) \\n ...   \n",
       "19847  Change switch to if ( # 10880 ) \\n Motivation ...   \n",
       "19836  Update BouncyCastle Libraries ( # 10906 ) \\n M...   \n",
       "7410   [ DOCS ] Remove beta admonition for runtime fi...   \n",
       "7593    [ DOCS ] Updating ILM phase language ( # 68477 )   \n",
       "7805        Minor revision missed in merge . ( # 67282 )   \n",
       "21650  fix # 184 : OkHttp no longer uses default ssl ...   \n",
       "21593   Remove FIXME from Huffman as it is good enough .   \n",
       "21649     Add - X to okcurl , permitting HEAD requests .   \n",
       "23051  API : Suppress existing NullableCollections li...   \n",
       "23065  API : Suppress existing NullableCollections li...   \n",
       "23287  Add inputmethod coretests OWNERS \\n Test : n /...   \n",
       "5287   Fix issue 12 - only unmark processors as end o...   \n",
       "5260   Ensure custom event processors are included in...   \n",
       "5219   Remove EventHandlerGroup . add ( EventHandler ...   \n",
       "18072  Use implementation / api instead of compile fo...   \n",
       "18071  Updated Gradle , Gradle Plugin , Support lib ,...   \n",
       "18066                              Release 0 . 9 . 5 . 0   \n",
       "17919  Bottom sheets corner radius should only apply ...   \n",
       "17916  maybeSetAdditionalPadding - > additionalPaddin...   \n",
       "17906  Enable android . defaultConfig . vectorDrawabl...   \n",
       "17934  Integrate afollestad / date - picker , resolve...   \n",
       "17938  Fix reusability of bottom sheet dialogs . Reso...   \n",
       "17937            Fix a sample crash on pre - 21 versions   \n",
       "24336  Replace Joda - Time libraries with java . time...   \n",
       "23843  Fix maven scope for airlift units library \\n A...   \n",
       "23828  Update build badge url from travis - ci . org ...   \n",
       "4540   Fix CLJ - 1202 . \\n Emit forms like ( . foo ( ...   \n",
       "4538   Make Delay save and rethrow exceptions it enco...   \n",
       "4176   CLJ - 1423 Allow vars to be invoked with infin...   \n",
       "7603   Remove MapperService . getObjectMapper ( ) ( #...   \n",
       "7873   Mute DateMathExpressionResolverTests # testExp...   \n",
       "7812   Don ' t use hppc ObjectObjectMap in ParseConte...   \n",
       "\n",
       "                                                    diff  \\\n",
       "19911  common \\ src \\ main \\ java \\ io \\ netty \\ util...   \n",
       "19847  codec - http \\ src \\ main \\ java \\ io \\ netty ...   \n",
       "19836  pom . xml \\n - < version > 1 . 65 < / version ...   \n",
       "7410   docs \\ painless \\ painless - contexts \\ painle...   \n",
       "7593   docs \\ reference \\ ilm \\ update - lifecycle - ...   \n",
       "7805   docs \\ reference \\ mapping . asciidoc \\n - app...   \n",
       "21650  okhttp \\ src \\ main \\ java \\ com \\ squareup \\ ...   \n",
       "21593  okhttp \\ src \\ main \\ java \\ com \\ squareup \\ ...   \n",
       "21649  okcurl \\ src \\ main \\ java \\ com \\ squareup \\ ...   \n",
       "23051  core \\ java \\ android \\ window \\ TaskOrganizer...   \n",
       "23065  core \\ java \\ android \\ content \\ AutofillOpti...   \n",
       "23287  new file \\n core \\ tests \\ coretests \\ src \\ a...   \n",
       "5287   code \\ src \\ main \\ com \\ lmax \\ disruptor \\ d...   \n",
       "5260   code \\ src \\ main \\ com \\ lmax \\ disruptor \\ d...   \n",
       "5219   src \\ main \\ java \\ com \\ lmax \\ disruptor \\ d...   \n",
       "18072  core \\ build . gradle \\n - implementation ' co...   \n",
       "18071  . travis . yml \\n - tools \\n - platform - tool...   \n",
       "18066  README . md \\n - compile ' com . afollestad . ...   \n",
       "17919  bottomsheets \\ src \\ main \\ java \\ com \\ afoll...   \n",
       "17916  core \\ src \\ main \\ java \\ com \\ afollestad \\ ...   \n",
       "17906  sample \\ build . gradle \\n + android . default...   \n",
       "17934  datetime \\ src \\ main \\ java \\ com \\ afollesta...   \n",
       "17938  bottomsheets \\ src \\ main \\ java \\ com \\ afoll...   \n",
       "17937  bottomsheets \\ src \\ main \\ res \\ values \\ sty...   \n",
       "24336  presto - cassandra \\ pom . xml \\n - < dependen...   \n",
       "23843  presto - memory - context \\ pom . xml \\n + < !...   \n",
       "23828  README . md \\n - # Presto [ ! [ Build Status ]...   \n",
       "4540   src \\ clj \\ clojure \\ core _ deftype . clj \\n ...   \n",
       "4538   src \\ jvm \\ clojure \\ lang \\ Delay . java \\n +...   \n",
       "4176   src \\ jvm \\ clojure \\ lang \\ Var . java \\n - r...   \n",
       "7603   server \\ src \\ main \\ java \\ org \\ elasticsear...   \n",
       "7873   server \\ src \\ test \\ java \\ org \\ elasticsear...   \n",
       "7812   server \\ src \\ main \\ java \\ org \\ elasticsear...   \n",
       "\n",
       "                           repo  diff_len  message_len  \n",
       "19911                     netty       264           75  \n",
       "19847                     netty       120           64  \n",
       "19836                     netty        52           63  \n",
       "7410              elasticsearch       100           36  \n",
       "7593              elasticsearch       369           11  \n",
       "7805              elasticsearch       193           10  \n",
       "21650                    okhttp       448           12  \n",
       "21593                    okhttp        27           10  \n",
       "21649                    okhttp        87           10  \n",
       "23051  platform_frameworks_base        39           30  \n",
       "23065  platform_frameworks_base       375           25  \n",
       "23287  platform_frameworks_base        43           16  \n",
       "5287                  disruptor        54           21  \n",
       "5260                  disruptor        50           10  \n",
       "5219                  disruptor       385           16  \n",
       "18072          material-dialogs       239            9  \n",
       "18071          material-dialogs       208           11  \n",
       "18066          material-dialogs        92            8  \n",
       "17919          material-dialogs       276           15  \n",
       "17916          material-dialogs       261           30  \n",
       "17906          material-dialogs        19           12  \n",
       "17934          material-dialogs       234           10  \n",
       "17938          material-dialogs       479           11  \n",
       "17937          material-dialogs       200            9  \n",
       "24336                    presto       290           51  \n",
       "23843                    presto       178           26  \n",
       "23828                    presto        98           16  \n",
       "4540                    clojure       193           56  \n",
       "4538                    clojure       311           25  \n",
       "4176                    clojure       159           27  \n",
       "7603              elasticsearch       220           40  \n",
       "7873              elasticsearch        45           10  \n",
       "7812              elasticsearch       292           33  "
      ]
     },
     "execution_count": 20,
     "metadata": {},
     "output_type": "execute_result"
    }
   ],
   "source": [
    "test_df.head(33)"
   ]
  },
  {
   "cell_type": "code",
   "execution_count": 21,
   "metadata": {},
   "outputs": [
    {
     "data": {
      "text/plain": [
       "(24428, 7)"
      ]
     },
     "execution_count": 21,
     "metadata": {},
     "output_type": "execute_result"
    }
   ],
   "source": [
    "idxs_bool = df.index.isin(test_idxs)\n",
    "train_df = df[~idxs_bool]\n",
    "train_df.shape"
   ]
  },
  {
   "cell_type": "code",
   "execution_count": 22,
   "metadata": {},
   "outputs": [
    {
     "data": {
      "text/html": [
       "<div>\n",
       "<style scoped>\n",
       "    .dataframe tbody tr th:only-of-type {\n",
       "        vertical-align: middle;\n",
       "    }\n",
       "\n",
       "    .dataframe tbody tr th {\n",
       "        vertical-align: top;\n",
       "    }\n",
       "\n",
       "    .dataframe thead th {\n",
       "        text-align: right;\n",
       "    }\n",
       "</style>\n",
       "<table border=\"1\" class=\"dataframe\">\n",
       "  <thead>\n",
       "    <tr style=\"text-align: right;\">\n",
       "      <th></th>\n",
       "      <th>author</th>\n",
       "      <th>date</th>\n",
       "      <th>message</th>\n",
       "      <th>diff</th>\n",
       "      <th>repo</th>\n",
       "      <th>diff_len</th>\n",
       "      <th>message_len</th>\n",
       "    </tr>\n",
       "  </thead>\n",
       "  <tbody>\n",
       "    <tr>\n",
       "      <th>19930</th>\n",
       "      <td>0</td>\n",
       "      <td>2020-01-09 14:20:10</td>\n",
       "      <td>Fix JavaDoc of RuleBasedIpFilter ( # 10521 ) \\...</td>\n",
       "      <td>handler \\ src \\ main \\ java \\ io \\ netty \\ han...</td>\n",
       "      <td>netty</td>\n",
       "      <td>51</td>\n",
       "      <td>70</td>\n",
       "    </tr>\n",
       "    <tr>\n",
       "      <th>19880</th>\n",
       "      <td>0</td>\n",
       "      <td>2020-02-11 13:07:13</td>\n",
       "      <td>Fix typo in Http2FrameCodec # write ( . . . ) ...</td>\n",
       "      <td>codec - http2 \\ src \\ main \\ java \\ io \\ netty...</td>\n",
       "      <td>netty</td>\n",
       "      <td>71</td>\n",
       "      <td>99</td>\n",
       "    </tr>\n",
       "    <tr>\n",
       "      <th>19879</th>\n",
       "      <td>0</td>\n",
       "      <td>2020-02-11 19:25:51</td>\n",
       "      <td>Remove extra empty line ( # 10754 ) \\n Motivat...</td>\n",
       "      <td>codec - http2 \\ src \\ main \\ java \\ io \\ netty...</td>\n",
       "      <td>netty</td>\n",
       "      <td>26</td>\n",
       "      <td>60</td>\n",
       "    </tr>\n",
       "    <tr>\n",
       "      <th>19878</th>\n",
       "      <td>0</td>\n",
       "      <td>2020-03-11 13:55:18</td>\n",
       "      <td>Add ` toString ` method in DefaultHttp2WindowU...</td>\n",
       "      <td>codec - http2 \\ src \\ main \\ java \\ io \\ netty...</td>\n",
       "      <td>netty</td>\n",
       "      <td>88</td>\n",
       "      <td>76</td>\n",
       "    </tr>\n",
       "    <tr>\n",
       "      <th>19877</th>\n",
       "      <td>0</td>\n",
       "      <td>2020-03-11 13:56:51</td>\n",
       "      <td>HttpConversionUtil # toHttpResponse should use...</td>\n",
       "      <td>codec - http2 \\ src \\ main \\ java \\ io \\ netty...</td>\n",
       "      <td>netty</td>\n",
       "      <td>329</td>\n",
       "      <td>115</td>\n",
       "    </tr>\n",
       "  </tbody>\n",
       "</table>\n",
       "</div>"
      ],
      "text/plain": [
       "       author                date  \\\n",
       "19930       0 2020-01-09 14:20:10   \n",
       "19880       0 2020-02-11 13:07:13   \n",
       "19879       0 2020-02-11 19:25:51   \n",
       "19878       0 2020-03-11 13:55:18   \n",
       "19877       0 2020-03-11 13:56:51   \n",
       "\n",
       "                                                 message  \\\n",
       "19930  Fix JavaDoc of RuleBasedIpFilter ( # 10521 ) \\...   \n",
       "19880  Fix typo in Http2FrameCodec # write ( . . . ) ...   \n",
       "19879  Remove extra empty line ( # 10754 ) \\n Motivat...   \n",
       "19878  Add ` toString ` method in DefaultHttp2WindowU...   \n",
       "19877  HttpConversionUtil # toHttpResponse should use...   \n",
       "\n",
       "                                                    diff   repo  diff_len  \\\n",
       "19930  handler \\ src \\ main \\ java \\ io \\ netty \\ han...  netty        51   \n",
       "19880  codec - http2 \\ src \\ main \\ java \\ io \\ netty...  netty        71   \n",
       "19879  codec - http2 \\ src \\ main \\ java \\ io \\ netty...  netty        26   \n",
       "19878  codec - http2 \\ src \\ main \\ java \\ io \\ netty...  netty        88   \n",
       "19877  codec - http2 \\ src \\ main \\ java \\ io \\ netty...  netty       329   \n",
       "\n",
       "       message_len  \n",
       "19930           70  \n",
       "19880           99  \n",
       "19879           60  \n",
       "19878           76  \n",
       "19877          115  "
      ]
     },
     "execution_count": 22,
     "metadata": {},
     "output_type": "execute_result"
    }
   ],
   "source": [
    "train_df.head()"
   ]
  },
  {
   "cell_type": "code",
   "execution_count": 38,
   "metadata": {},
   "outputs": [],
   "source": [
    "def save_df(df, folder):\n",
    "    msgs = list(item[1]+'\\n' for item in df['message'].items())\n",
    "    with open(os.path.join(folder, 'msg.txt'), 'w', encoding='utf-8') as target:\n",
    "        target.writelines(msgs)\n",
    "        \n",
    "    authors = list(str(item[1])+'\\n' for item in df['author'].items())\n",
    "    with open(os.path.join(folder, 'projectIds.txt'), 'w', encoding='utf-8') as target:\n",
    "        target.writelines(authors)\n",
    "        \n",
    "    diffs = list(item[1]+'\\n' for item in df['diff'].items())\n",
    "    with open(os.path.join(folder, 'diff.txt'), 'w', encoding='utf-8') as target:\n",
    "        target.writelines(diffs)"
   ]
  },
  {
   "cell_type": "code",
   "execution_count": 39,
   "metadata": {},
   "outputs": [],
   "source": [
    "os.makedirs('data', exist_ok=True)\n",
    "os.makedirs('data/train', exist_ok=True)\n",
    "os.makedirs('data/test', exist_ok=True)\n",
    "save_df(train_df, 'data/train')\n",
    "save_df(test_df, 'data/test')"
   ]
  }
 ],
 "metadata": {
  "kernelspec": {
   "display_name": "Python 3",
   "language": "python",
   "name": "python3"
  },
  "language_info": {
   "codemirror_mode": {
    "name": "ipython",
    "version": 3
   },
   "file_extension": ".py",
   "mimetype": "text/x-python",
   "name": "python",
   "nbconvert_exporter": "python",
   "pygments_lexer": "ipython3",
   "version": "3.8.5"
  }
 },
 "nbformat": 4,
 "nbformat_minor": 5
}
