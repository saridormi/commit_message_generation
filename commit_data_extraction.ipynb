{
 "cells": [
  {
   "cell_type": "markdown",
   "metadata": {},
   "source": [
    "# Mining data from GitHub\n",
    "\n",
    "## Немного посмотрим на данные и приведем к удобному формату\n",
    "\n",
    "Импортируем библиотеки и создадим необходимые папки."
   ]
  },
  {
   "cell_type": "code",
   "execution_count": 1,
   "metadata": {},
   "outputs": [],
   "source": [
    "import pydriller\n",
    "import os\n",
    "import json\n",
    "from dpu_utils.utils import save_jsonl_gz, load_json_gz, RichPath\n",
    "import numpy as np\n",
    "\n",
    "from collections import namedtuple, defaultdict\n",
    "import json\n",
    "from tqdm import tqdm\n",
    "from joblib import Parallel, delayed, cpu_count\n",
    "%load_ext autoreload\n",
    "%autoreload 2\n",
    "\n",
    "os.chdir('D:\\github_data')\n",
    "\n",
    "commit_data_dir = 'extracted_data'\n",
    "os.makedirs(commit_data_dir, exist_ok=True)"
   ]
  },
  {
   "cell_type": "markdown",
   "metadata": {},
   "source": [
    "Попробуем запустить `RepositoryMining` для конкретного репозитория и посмотреть на пару примеров."
   ]
  },
  {
   "cell_type": "code",
   "execution_count": 2,
   "metadata": {},
   "outputs": [
    {
     "name": "stdout",
     "output_type": "stream",
     "text": [
      "Author: Ben Alpert\n",
      "commited at: 2015-01-29 17:10:49-08:00\n",
      "message: Initial commit\n",
      "number of modifications: 382\n",
      "\n",
      "Author: Alex Kotliarskyi\n",
      "commited at: 2015-01-30 10:17:28-08:00\n",
      "message: Added ability to jump to syntax errors from RedBox\n",
      "number of modifications: 1\n",
      "\n",
      "modified: RCTRootView.m\n",
      "modification type: ModificationType.MODIFY\n",
      "with diff \n",
      "@@ -90,7 +90,12 @@ NSString *const RCTRootViewReloadNotification = @\"RCTRootViewReloadNotification\"\n",
      " - (void)bundleFinishedLoading:(NSError *)error\n",
      " {\n",
      "   if (error != nil) {\n",
      "-    [[RCTRedBox sharedInstance] showErrorMessage:error.localizedDescription withDetails:error.localizedFailureReason];\n",
      "+    NSArray *stack = [[error userInfo] objectForKey:@\"stack\"];\n",
      "+    if (stack) {\n",
      "+      [[RCTRedBox sharedInstance] showErrorMessage:[error localizedDescription] withStack:stack];\n",
      "+    } else {\n",
      "+      [[RCTRedBox sharedInstance] showErrorMessage:[error localizedDescription] withDetails:[error localizedFailureReason]];\n",
      "+    }\n",
      "   } else {\n",
      "     \n",
      "     [_bridge.uiManager registerRootView:self];\n",
      "\n",
      "\n"
     ]
    }
   ],
   "source": [
    "repo = pydriller.RepositoryMining('temp/react-native')\n",
    "for i, commit in enumerate(repo.traverse_commits()):   \n",
    "    print(\"Author: {}\".format(commit.author.name),\n",
    "          \"commited at: {}\".format(commit.author_date),\n",
    "          \"message: {}\".format(commit.msg),\n",
    "          \"number of modifications: {}\".format(len(commit.modifications)),\n",
    "          sep='\\n')\n",
    "    print()\n",
    "\n",
    "    if i == 1: \n",
    "        for m in  commit.modifications:\n",
    "            print(\"modified: {}\".format(m.filename),\n",
    "                  \"modification type: {}\".format(m.change_type),\n",
    "                  \"with diff \\n{}\".format(m.diff),\n",
    "                  sep='\\n')\n",
    "            print()\n",
    "            break\n",
    "        break"
   ]
  },
  {
   "cell_type": "markdown",
   "metadata": {},
   "source": [
    "### Отличия от открытого датасета\n",
    "\n",
    "Дифф немного отличается от формате в открытом датасета, который я использовала ранее:\n",
    "\n",
    "1. Нет каких-то дополнительных конструкций в начале диффа. Например, в случае добавления файла перед основным диффом было еще что-то такое:\n",
    "\n",
    "    ```\n",
    "    new file mode 100644\n",
    "    index 00000000000 . . 99a8c86917d\n",
    "    mmm / dev / null\n",
    "    ppp b / docs / cas - server - documentation / protocol / Protocol - Overview . md\n",
    "    ```\n",
    "\n",
    "    Вроде как не хватает флага `--summary` в `git diff` (это мое предположение, не нашла в статье Jiang et al., какой именно дифф они использовали), а еще в `pydriller` нет удобной возможности его добавить :( \n",
    "    Самое простое - вручную генерировать подобные строчки перед основным диффом в соответствии с `ModificationType`. Но в открытом датасете было очень много строчек вида `Binary files x and y differ`, не очень понятно, будут ли они здесь вообще.\n",
    "\n",
    "2. В одном коммите может быть несколько изменений, у каждого свой дифф. В открытом датасете же во всех примерах изменяется только один файл. \n",
    "\n",
    "    Можно попробовать конкатенировать диффы из всех изменений, но мы в любом случае не сможем обрабатывать бесконечно длинные диффы, нужно придумать, что делать с такими коммитами - просто отбрасывать/брать какую-то часть диффов/etc.?\n",
    "\n",
    "\n",
    "### Предобработка данных для каждого коммита\n",
    "\n",
    "Хочется сохранить следующую информацию для каждого коммита:\n",
    "\n",
    "* автор\n",
    "* дата\n",
    "* сообщение\n",
    "* диффы из всех изменений (потом решим, что с этим делать)\n",
    "\n",
    "При этом каждый дифф нужно немного предобработать:\n",
    "\n",
    "1. Добавить префикс на основе ModificationType\n",
    "\n",
    "    <details>\n",
    "      <summary>Подробнее про префиксы</summary>\n",
    "\n",
    "      Есть следующие типы изменений: `ADD, COPY, RENAME, DELETE, MODIFY, UNKNOWN`.  \n",
    "\n",
    "      * в случае `ADD` добавить что-то вроде \n",
    "        ```\n",
    "        new file\n",
    "        {название файла}\n",
    "        ```\n",
    "\n",
    "    * `COPY` можно совсем отбросить\n",
    "\n",
    "    * в случае `RENAME` добавить что-то вроде \n",
    "\n",
    "        ```\n",
    "        rename from {название файла до}\n",
    "        rename to {название файла после}\n",
    "        ```\n",
    "\n",
    "    * в случае `DELETE` добавить что-то вроде\n",
    "\n",
    "        ```\n",
    "        deleted file\n",
    "        {название файла}\n",
    "        ```\n",
    "\n",
    "    * в случае `MODIFY` добавить что-то вроде\n",
    "\n",
    "        ```\n",
    "        {название файла}\n",
    "        ```\n",
    "\n",
    "    * `UNKNOWN` можно совсем отбросить\n",
    "    </details>\n",
    "\n",
    "2. Убрать ненужные \"служебные\" строчки\n",
    "3. Выделить знаки пунктуации пробелами\n",
    "\n",
    "Для этого я написала небольшой класс, посмотрим на результат его работы:"
   ]
  },
  {
   "cell_type": "code",
   "execution_count": 4,
   "metadata": {},
   "outputs": [
    {
     "data": {
      "text/plain": [
       "{'author': ('Alex Kotliarskyi', 'alex.frantic@gmail.com'),\n",
       " 'date': '30.01.2015 10:17:28',\n",
       " 'message': 'Added ability to jump to syntax errors from RedBox',\n",
       " 'diff': ['<FILE> ReactKit \\\\ Base \\\\ RCTRootView . m <nl> - ( void ) bundleFinishedLoading : ( NSError * ) error <nl> { <nl> if ( error ! = nil ) { <nl> - [ [ RCTRedBox sharedInstance ] showErrorMessage : error . localizedDescription withDetails : error . localizedFailureReason ] ; <nl> + NSArray * stack = [ [ error userInfo ] objectForKey : @ \" stack \" ] ; <nl> + if ( stack ) { <nl> + [ [ RCTRedBox sharedInstance ] showErrorMessage : [ error localizedDescription ] withStack : stack ] ; <nl> + } else { <nl> + [ [ RCTRedBox sharedInstance ] showErrorMessage : [ error localizedDescription ] withDetails : [ error localizedFailureReason ] ] ; <nl> + } <nl> } else { <nl> <nl> [ _ bridge . uiManager registerRootView : self ] ; <nl>']}"
      ]
     },
     "execution_count": 4,
     "metadata": {},
     "output_type": "execute_result"
    }
   ],
   "source": [
    "from commit_processor import CommitProcessor\n",
    "\n",
    "\n",
    "repo = pydriller.RepositoryMining('temp/react-native')\n",
    "for i, commit in enumerate(repo.traverse_commits()):\n",
    "    if i == 0:\n",
    "        continue # first example is kinda huge\n",
    "    a = CommitProcessor.process_commit(commit)\n",
    "    break\n",
    "a"
   ]
  },
  {
   "cell_type": "markdown",
   "metadata": {},
   "source": [
    "## Начнем собирать данные\n",
    "\n",
    "**UPD: Дальнейшая информация актуальна только для небольшого датасета, который использовался для сравнения encoder-decoder моделей с distilGPT-2.**\n",
    "\n",
    "> Здесь данные собираются из репозиториев, предоставленных в датасете для NNGen.\n",
    "  \n",
    "Выгрузим из текстового файла названия репозиториев и ссылки на них."
   ]
  },
  {
   "cell_type": "code",
   "execution_count": 4,
   "metadata": {},
   "outputs": [],
   "source": [
    "# read urls of github repos to scrape from repo-id-to-github.txt\n",
    "with open('repo-id-to-github.txt', 'r') as file:\n",
    "    repo_dict = {line.strip().split()[1] : line.strip().split()[2] for line in file.readlines()[:75]}\n",
    "    \n",
    "repo_list = list(repo_dict.keys())"
   ]
  },
  {
   "cell_type": "markdown",
   "metadata": {},
   "source": [
    "Соберем из 75 репозиториев по ~1000 последних коммитов, удовлетворяющих ограничениям на длину диффов и сообщений. \n",
    "\n",
    "```\n",
    "from process_repo import process_repo\n",
    "\n",
    "with Parallel(cpu_count()) as pool:\n",
    "    data = pool(delayed(process_repo)(repo_name, repo_dict[repo_name]) for repo_name in repo_list)\n",
    "```"
   ]
  },
  {
   "cell_type": "markdown",
   "metadata": {
    "pycharm": {
     "name": "#%% md\n"
    }
   },
   "source": [
    "## Немного посмотрим на собранные данные\n",
    "\n",
    "Для начала загрузим их в один датафрейм."
   ]
  },
  {
   "cell_type": "code",
   "execution_count": 13,
   "metadata": {
    "pycharm": {
     "name": "#%%\n"
    }
   },
   "outputs": [
    {
     "name": "stderr",
     "output_type": "stream",
     "text": [
      "100%|██████████████████████████████████████████████████████████████████████████████████| 75/75 [00:04<00:00, 18.43it/s]\n"
     ]
    }
   ],
   "source": [
    "import pandas as pd\n",
    "import matplotlib.pyplot as plt\n",
    "import seaborn as sns\n",
    "import gzip\n",
    "\n",
    "pd.options.display.float_format = '{:.2f}'.format\n",
    "\n",
    "\n",
    "dfs = []\n",
    "\n",
    "for filename in tqdm(os.listdir(commit_data_dir)):\n",
    "    with gzip.open(os.path.join(commit_data_dir, filename)) as f:\n",
    "        df = pd.read_json(f, lines=True)\n",
    "        df['repo'] = f'{filename.split(\".jsonl.gz\")[0]}'\n",
    "        dfs.append(df)"
   ]
  },
  {
   "cell_type": "code",
   "execution_count": 14,
   "metadata": {},
   "outputs": [
    {
     "data": {
      "text/html": [
       "<div>\n",
       "<style scoped>\n",
       "    .dataframe tbody tr th:only-of-type {\n",
       "        vertical-align: middle;\n",
       "    }\n",
       "\n",
       "    .dataframe tbody tr th {\n",
       "        vertical-align: top;\n",
       "    }\n",
       "\n",
       "    .dataframe thead th {\n",
       "        text-align: right;\n",
       "    }\n",
       "</style>\n",
       "<table border=\"1\" class=\"dataframe\">\n",
       "  <thead>\n",
       "    <tr style=\"text-align: right;\">\n",
       "      <th></th>\n",
       "      <th>author</th>\n",
       "      <th>date</th>\n",
       "      <th>message</th>\n",
       "      <th>diff</th>\n",
       "      <th>repo</th>\n",
       "      <th>diff_len</th>\n",
       "      <th>message_len</th>\n",
       "    </tr>\n",
       "  </thead>\n",
       "  <tbody>\n",
       "    <tr>\n",
       "      <th>0</th>\n",
       "      <td>(Jake Wharton, jw@squareup.com)</td>\n",
       "      <td>2013-07-29 09:09:07</td>\n",
       "      <td>[ maven - release - plugin ] prepare release 4...</td>\n",
       "      <td>[actionbarsherlock - fest \\ pom . xml \\n - &lt; v...</td>\n",
       "      <td>ActionBarSherlock</td>\n",
       "      <td>410</td>\n",
       "      <td>14</td>\n",
       "    </tr>\n",
       "    <tr>\n",
       "      <th>1</th>\n",
       "      <td>(googolmo, googolmo@gmail.com)</td>\n",
       "      <td>2013-07-15 10:31:48</td>\n",
       "      <td>update android build tools to 0 . 5 . +</td>\n",
       "      <td>[build . gradle \\n - classpath ' com . android...</td>\n",
       "      <td>ActionBarSherlock</td>\n",
       "      <td>52</td>\n",
       "      <td>10</td>\n",
       "    </tr>\n",
       "    <tr>\n",
       "      <th>2</th>\n",
       "      <td>(Jake Wharton, jw@squareup.com)</td>\n",
       "      <td>2013-02-07 22:23:04</td>\n",
       "      <td>Use ' sw ' and ' w ' qualifiers on ICS + only .</td>\n",
       "      <td>[actionbarsherlock \\ src \\ com \\ actionbarsher...</td>\n",
       "      <td>ActionBarSherlock</td>\n",
       "      <td>64</td>\n",
       "      <td>14</td>\n",
       "    </tr>\n",
       "    <tr>\n",
       "      <th>3</th>\n",
       "      <td>(Jake Wharton, jw@squareup.com)</td>\n",
       "      <td>2013-02-07 21:26:41</td>\n",
       "      <td>Mention the ' library ' folder is now called '...</td>\n",
       "      <td>[website \\ faq . html \\n + &lt; p &gt; &lt; em &gt; Note :...</td>\n",
       "      <td>ActionBarSherlock</td>\n",
       "      <td>47</td>\n",
       "      <td>18</td>\n",
       "    </tr>\n",
       "    <tr>\n",
       "      <th>4</th>\n",
       "      <td>(bbcallen, bbcallen@gmail.com)</td>\n",
       "      <td>2013-06-27 13:35:18</td>\n",
       "      <td>abs _ _ search _ view . xml : remove android n...</td>\n",
       "      <td>[actionbarsherlock \\ res \\ layout \\ abs _ _ se...</td>\n",
       "      <td>ActionBarSherlock</td>\n",
       "      <td>37</td>\n",
       "      <td>24</td>\n",
       "    </tr>\n",
       "  </tbody>\n",
       "</table>\n",
       "</div>"
      ],
      "text/plain": [
       "                            author                date  \\\n",
       "0  (Jake Wharton, jw@squareup.com) 2013-07-29 09:09:07   \n",
       "1   (googolmo, googolmo@gmail.com) 2013-07-15 10:31:48   \n",
       "2  (Jake Wharton, jw@squareup.com) 2013-02-07 22:23:04   \n",
       "3  (Jake Wharton, jw@squareup.com) 2013-02-07 21:26:41   \n",
       "4   (bbcallen, bbcallen@gmail.com) 2013-06-27 13:35:18   \n",
       "\n",
       "                                             message  \\\n",
       "0  [ maven - release - plugin ] prepare release 4...   \n",
       "1            update android build tools to 0 . 5 . +   \n",
       "2    Use ' sw ' and ' w ' qualifiers on ICS + only .   \n",
       "3  Mention the ' library ' folder is now called '...   \n",
       "4  abs _ _ search _ view . xml : remove android n...   \n",
       "\n",
       "                                                diff               repo  \\\n",
       "0  [actionbarsherlock - fest \\ pom . xml \\n - < v...  ActionBarSherlock   \n",
       "1  [build . gradle \\n - classpath ' com . android...  ActionBarSherlock   \n",
       "2  [actionbarsherlock \\ src \\ com \\ actionbarsher...  ActionBarSherlock   \n",
       "3  [website \\ faq . html \\n + < p > < em > Note :...  ActionBarSherlock   \n",
       "4  [actionbarsherlock \\ res \\ layout \\ abs _ _ se...  ActionBarSherlock   \n",
       "\n",
       "   diff_len  message_len  \n",
       "0       410           14  \n",
       "1        52           10  \n",
       "2        64           14  \n",
       "3        47           18  \n",
       "4        37           24  "
      ]
     },
     "execution_count": 14,
     "metadata": {},
     "output_type": "execute_result"
    }
   ],
   "source": [
    "df = pd.concat(dfs, ignore_index=True, axis=0)\n",
    "df.author = df.author.apply(lambda x: tuple(x))\n",
    "df['diff_len'] = df['diff'].apply(lambda x: sum([len(diff.split()) for diff in x]))\n",
    "df['message_len'] = df['message'].apply(lambda x: len(x.split()))\n",
    "df.drop(df[df['diff_len'] == 0].index, inplace=True)\n",
    "df.head()"
   ]
  },
  {
   "cell_type": "code",
   "execution_count": 15,
   "metadata": {},
   "outputs": [
    {
     "data": {
      "text/plain": [
       "33270"
      ]
     },
     "execution_count": 15,
     "metadata": {},
     "output_type": "execute_result"
    }
   ],
   "source": [
    "len(df)"
   ]
  },
  {
   "cell_type": "markdown",
   "metadata": {
    "pycharm": {
     "name": "#%% md\n"
    }
   },
   "source": [
    "### Статистика по коммитам для каждого автора"
   ]
  },
  {
   "cell_type": "code",
   "execution_count": 16,
   "metadata": {
    "pycharm": {
     "name": "#%%\n"
    }
   },
   "outputs": [
    {
     "data": {
      "text/plain": [
       "count   5188.00\n",
       "mean       6.41\n",
       "std       30.87\n",
       "min        1.00\n",
       "25%        1.00\n",
       "50%        1.00\n",
       "75%        2.00\n",
       "max      894.00\n",
       "Name: date, dtype: float64"
      ]
     },
     "execution_count": 16,
     "metadata": {},
     "output_type": "execute_result"
    }
   ],
   "source": [
    "author_df = df.groupby(by='author')['date'].count()\n",
    "author_df.describe()"
   ]
  },
  {
   "cell_type": "markdown",
   "metadata": {
    "pycharm": {
     "name": "#%% md\n"
    }
   },
   "source": [
    "Всего есть 5188 уникальных авторов, у большинства из них очень мало коммитов, что печально. Попробуем оставить только авторов, у которых есть хотя бы 6 коммитов."
   ]
  },
  {
   "cell_type": "code",
   "execution_count": 17,
   "metadata": {
    "pycharm": {
     "name": "#%%\n"
    }
   },
   "outputs": [],
   "source": [
    "author_list = author_df.index[author_df > 5].tolist()\n",
    "df = df.loc[df['author'].isin(author_list)]"
   ]
  },
  {
   "cell_type": "code",
   "execution_count": 18,
   "metadata": {},
   "outputs": [
    {
     "data": {
      "image/png": "[encoded data removed]",
      "text/plain": [
       "<Figure size 432x288 with 1 Axes>"
      ]
     },
     "metadata": {
      "needs_background": "light"
     },
     "output_type": "display_data"
    }
   ],
   "source": [
    "sns.histplot(x='date', data=df.groupby(by='author')['date'].count().reset_index(), stat='density')\n",
    "plt.show()"
   ]
  },
  {
   "cell_type": "code",
   "execution_count": 19,
   "metadata": {},
   "outputs": [
    {
     "name": "stdout",
     "output_type": "stream",
     "text": [
      "26549\n",
      "707\n"
     ]
    }
   ],
   "source": [
    "print(len(df))\n",
    "print(len(author_list))"
   ]
  },
  {
   "cell_type": "markdown",
   "metadata": {
    "pycharm": {
     "name": "#%% md\n"
    }
   },
   "source": [
    "Таких авторов всего 707, и при этом мы теряем ~7000 примеров."
   ]
  },
  {
   "cell_type": "markdown",
   "metadata": {},
   "source": [
    "### Статистика по количеству токенов в диффах\n",
    "\n",
    "В данном случае токенизация проводится просто разделением по пробелам. При сборе данных отбрасываются все примеры, где в диффах более 512 токенов (это максимальная длина входных данных для RoBERTa). Понятно, что при использовании другого токенизатора может получиться другое количество токенов, но мне показалось, что учитывать именно токенизатор RoBERTa при сборе данных будет как-то долго и громоздко."
   ]
  },
  {
   "cell_type": "code",
   "execution_count": 20,
   "metadata": {
    "pycharm": {
     "name": "#%%\n"
    }
   },
   "outputs": [
    {
     "data": {
      "text/plain": [
       "count   26549.00\n",
       "mean      176.17\n",
       "std       133.31\n",
       "min         5.00\n",
       "25%        62.00\n",
       "50%       135.00\n",
       "75%       264.00\n",
       "max       512.00\n",
       "Name: diff_len, dtype: float64"
      ]
     },
     "execution_count": 20,
     "metadata": {},
     "output_type": "execute_result"
    }
   ],
   "source": [
    "df['diff_len'].describe()"
   ]
  },
  {
   "cell_type": "code",
   "execution_count": 21,
   "metadata": {},
   "outputs": [
    {
     "data": {
      "image/png": "[encoded data removed]",
      "text/plain": [
       "<Figure size 432x288 with 1 Axes>"
      ]
     },
     "metadata": {
      "needs_background": "light"
     },
     "output_type": "display_data"
    }
   ],
   "source": [
    "sns.histplot(df['diff_len'], stat='density')\n",
    "plt.show()"
   ]
  },
  {
   "cell_type": "markdown",
   "metadata": {
    "pycharm": {
     "name": "#%% md\n"
    }
   },
   "source": [
    "В целом, большинство диффов не такие уж и длинные - 75% имеют не более 264 токенов."
   ]
  },
  {
   "cell_type": "markdown",
   "metadata": {},
   "source": [
    "### Статистика по количеству токенов в сообщениях"
   ]
  },
  {
   "cell_type": "markdown",
   "metadata": {},
   "source": [
    "Аналогично диффам, сообщения разбиваются на токены по пробелам, и примеры с сообщениями с более чем 512 токенами были отброшены еще на этапе сбора. Посмотрим на статистику по оставшимся."
   ]
  },
  {
   "cell_type": "code",
   "execution_count": 22,
   "metadata": {
    "pycharm": {
     "name": "#%%\n"
    }
   },
   "outputs": [
    {
     "data": {
      "text/plain": [
       "count   26549.00\n",
       "mean       32.09\n",
       "std        39.96\n",
       "min         8.00\n",
       "25%        11.00\n",
       "50%        16.00\n",
       "75%        37.00\n",
       "max       502.00\n",
       "Name: message_len, dtype: float64"
      ]
     },
     "execution_count": 22,
     "metadata": {},
     "output_type": "execute_result"
    }
   ],
   "source": [
    "df['message_len'].describe()"
   ]
  },
  {
   "cell_type": "code",
   "execution_count": 23,
   "metadata": {},
   "outputs": [
    {
     "data": {
      "text/plain": [
       "16.0"
      ]
     },
     "execution_count": 23,
     "metadata": {},
     "output_type": "execute_result"
    }
   ],
   "source": [
    "df['message_len'].median()"
   ]
  },
  {
   "cell_type": "code",
   "execution_count": 24,
   "metadata": {},
   "outputs": [
    {
     "data": {
      "image/png": "[encoded data removed]",
      "text/plain": [
       "<Figure size 432x288 with 1 Axes>"
      ]
     },
     "metadata": {
      "needs_background": "light"
     },
     "output_type": "display_data"
    }
   ],
   "source": [
    "sns.histplot(df['message_len'], stat='density')\n",
    "plt.show()"
   ]
  },
  {
   "cell_type": "markdown",
   "metadata": {
    "pycharm": {
     "name": "#%% md\n"
    }
   },
   "source": [
    "В целом, большинство сообщений действительно короткие: 75% имеют не более 37 токенов."
   ]
  },
  {
   "cell_type": "markdown",
   "metadata": {},
   "source": [
    "### Сохраним данные в формате открытого датасета"
   ]
  },
  {
   "cell_type": "markdown",
   "metadata": {},
   "source": [
    "Открытый датасет был разбит на trait и test части, в каждой из них хранилось по три файла: с сообщениями, с диффами, и с id репозитория. Сделаем примерно то же самое, но с id автора, а еще отсортируем по времени.\n",
    "\n",
    "**UPD: мне кажется более удобным использовать единый .csv файл, возможно, это в чем-то не оптимально, но пока оставлю так.**"
   ]
  },
  {
   "cell_type": "code",
   "execution_count": 25,
   "metadata": {
    "pycharm": {
     "name": "#%%\n"
    }
   },
   "outputs": [],
   "source": [
    "# отсортируем датафрейм так, чтобы у каждого автора коммиты шли в соответствии с датой, от самых ранних к самым поздним\n",
    "df.sort_values(by=['author', 'date'], inplace=True)\n",
    "\n",
    "# заменим авторов на что-то вроде id, чтобы было проще\n",
    "from sklearn.preprocessing import LabelEncoder\n",
    "\n",
    "le = LabelEncoder()\n",
    "df['author'] = df['author'].apply(lambda x: x[0] + '<SEP>' + x[1]) # label encoder doesn't work with tuples\n",
    "df['author'] = le.fit_transform(df['author'])\n",
    "\n",
    "# сделаем из диффов-списков диффы-строки\n",
    "df['diff'] = df['diff'].apply(lambda x: ' '.join(x))"
   ]
  },
  {
   "cell_type": "code",
   "execution_count": 26,
   "metadata": {},
   "outputs": [
    {
     "data": {
      "text/html": [
       "<div>\n",
       "<style scoped>\n",
       "    .dataframe tbody tr th:only-of-type {\n",
       "        vertical-align: middle;\n",
       "    }\n",
       "\n",
       "    .dataframe tbody tr th {\n",
       "        vertical-align: top;\n",
       "    }\n",
       "\n",
       "    .dataframe thead th {\n",
       "        text-align: right;\n",
       "    }\n",
       "</style>\n",
       "<table border=\"1\" class=\"dataframe\">\n",
       "  <thead>\n",
       "    <tr style=\"text-align: right;\">\n",
       "      <th></th>\n",
       "      <th>author</th>\n",
       "      <th>date</th>\n",
       "      <th>message</th>\n",
       "      <th>diff</th>\n",
       "      <th>repo</th>\n",
       "      <th>diff_len</th>\n",
       "      <th>message_len</th>\n",
       "    </tr>\n",
       "  </thead>\n",
       "  <tbody>\n",
       "    <tr>\n",
       "      <th>19930</th>\n",
       "      <td>0</td>\n",
       "      <td>2020-01-09 14:20:10</td>\n",
       "      <td>Fix JavaDoc of RuleBasedIpFilter ( # 10521 ) \\...</td>\n",
       "      <td>handler \\ src \\ main \\ java \\ io \\ netty \\ han...</td>\n",
       "      <td>netty</td>\n",
       "      <td>51</td>\n",
       "      <td>70</td>\n",
       "    </tr>\n",
       "    <tr>\n",
       "      <th>19880</th>\n",
       "      <td>0</td>\n",
       "      <td>2020-02-11 13:07:13</td>\n",
       "      <td>Fix typo in Http2FrameCodec # write ( . . . ) ...</td>\n",
       "      <td>codec - http2 \\ src \\ main \\ java \\ io \\ netty...</td>\n",
       "      <td>netty</td>\n",
       "      <td>71</td>\n",
       "      <td>99</td>\n",
       "    </tr>\n",
       "    <tr>\n",
       "      <th>19879</th>\n",
       "      <td>0</td>\n",
       "      <td>2020-02-11 19:25:51</td>\n",
       "      <td>Remove extra empty line ( # 10754 ) \\n Motivat...</td>\n",
       "      <td>codec - http2 \\ src \\ main \\ java \\ io \\ netty...</td>\n",
       "      <td>netty</td>\n",
       "      <td>26</td>\n",
       "      <td>60</td>\n",
       "    </tr>\n",
       "    <tr>\n",
       "      <th>19878</th>\n",
       "      <td>0</td>\n",
       "      <td>2020-03-11 13:55:18</td>\n",
       "      <td>Add ` toString ` method in DefaultHttp2WindowU...</td>\n",
       "      <td>codec - http2 \\ src \\ main \\ java \\ io \\ netty...</td>\n",
       "      <td>netty</td>\n",
       "      <td>88</td>\n",
       "      <td>76</td>\n",
       "    </tr>\n",
       "    <tr>\n",
       "      <th>19877</th>\n",
       "      <td>0</td>\n",
       "      <td>2020-03-11 13:56:51</td>\n",
       "      <td>HttpConversionUtil # toHttpResponse should use...</td>\n",
       "      <td>codec - http2 \\ src \\ main \\ java \\ io \\ netty...</td>\n",
       "      <td>netty</td>\n",
       "      <td>329</td>\n",
       "      <td>115</td>\n",
       "    </tr>\n",
       "  </tbody>\n",
       "</table>\n",
       "</div>"
      ],
      "text/plain": [
       "       author                date  \\\n",
       "19930       0 2020-01-09 14:20:10   \n",
       "19880       0 2020-02-11 13:07:13   \n",
       "19879       0 2020-02-11 19:25:51   \n",
       "19878       0 2020-03-11 13:55:18   \n",
       "19877       0 2020-03-11 13:56:51   \n",
       "\n",
       "                                                 message  \\\n",
       "19930  Fix JavaDoc of RuleBasedIpFilter ( # 10521 ) \\...   \n",
       "19880  Fix typo in Http2FrameCodec # write ( . . . ) ...   \n",
       "19879  Remove extra empty line ( # 10754 ) \\n Motivat...   \n",
       "19878  Add ` toString ` method in DefaultHttp2WindowU...   \n",
       "19877  HttpConversionUtil # toHttpResponse should use...   \n",
       "\n",
       "                                                    diff   repo  diff_len  \\\n",
       "19930  handler \\ src \\ main \\ java \\ io \\ netty \\ han...  netty        51   \n",
       "19880  codec - http2 \\ src \\ main \\ java \\ io \\ netty...  netty        71   \n",
       "19879  codec - http2 \\ src \\ main \\ java \\ io \\ netty...  netty        26   \n",
       "19878  codec - http2 \\ src \\ main \\ java \\ io \\ netty...  netty        88   \n",
       "19877  codec - http2 \\ src \\ main \\ java \\ io \\ netty...  netty       329   \n",
       "\n",
       "       message_len  \n",
       "19930           70  \n",
       "19880           99  \n",
       "19879           60  \n",
       "19878           76  \n",
       "19877          115  "
      ]
     },
     "execution_count": 26,
     "metadata": {},
     "output_type": "execute_result"
    }
   ],
   "source": [
    "df.head()"
   ]
  },
  {
   "cell_type": "markdown",
   "metadata": {
    "pycharm": {
     "name": "#%% md\n"
    }
   },
   "source": [
    "Теперь нужно как-то разделить это на условные train и test. Ни одной модели не нужно обучаться, но для distilGPT-2 предполагается наличие некоторой истории, в случае с открытым датасетом я брала её как раз из train.\n",
    "\n",
    "Пока используется такая простая идея: группируем по автору, в каждой группе берем 3 последних коммита, их используем для оценки качества моделей. Все остальные используются как история в случае distilGPT-2.\n",
    "\n",
    "**UPD: идея получше: вынести в train, val и test разных авторов.**"
   ]
  },
  {
   "cell_type": "code",
   "execution_count": 27,
   "metadata": {
    "pycharm": {
     "name": "#%%\n"
    }
   },
   "outputs": [],
   "source": [
    "from sklearn.model_selection import train_test_split\n",
    "\n",
    "authors = df['author'].unique()\n",
    "\n",
    "train_authors, test_authors = train_test_split(authors, test_size=0.15, shuffle=True, random_state=42)\n",
    "train_authors, val_authors = train_test_split(train_authors, test_size=0.15, random_state=42)"
   ]
  },
  {
   "cell_type": "code",
   "execution_count": 28,
   "metadata": {},
   "outputs": [
    {
     "data": {
      "text/plain": [
       "(3391, 7)"
      ]
     },
     "execution_count": 28,
     "metadata": {},
     "output_type": "execute_result"
    }
   ],
   "source": [
    "test_df = df.loc[df['author'].isin(test_authors)]\n",
    "test_df.shape"
   ]
  },
  {
   "cell_type": "code",
   "execution_count": 29,
   "metadata": {},
   "outputs": [
    {
     "data": {
      "text/plain": [
       "(3342, 7)"
      ]
     },
     "execution_count": 29,
     "metadata": {},
     "output_type": "execute_result"
    }
   ],
   "source": [
    "val_df = df.loc[df['author'].isin(val_authors)]\n",
    "val_df.shape"
   ]
  },
  {
   "cell_type": "code",
   "execution_count": 30,
   "metadata": {},
   "outputs": [
    {
     "data": {
      "text/plain": [
       "(19816, 7)"
      ]
     },
     "execution_count": 30,
     "metadata": {},
     "output_type": "execute_result"
    }
   ],
   "source": [
    "train_df = df.loc[df['author'].isin(train_authors)]\n",
    "train_df.shape"
   ]
  },
  {
   "cell_type": "code",
   "execution_count": 53,
   "metadata": {},
   "outputs": [],
   "source": [
    "train_df[['diff', 'message', 'author']].to_csv('train.csv', header=None, index=None)\n",
    "val_df[['diff', 'message', 'author']].to_csv('val.csv', header=None, index=None)\n",
    "test_df[['diff', 'message', 'author']].to_csv('test.csv', header=None, index=None)"
   ]
  },
  {
   "cell_type": "markdown",
   "metadata": {
    "pycharm": {
     "name": "#%% md\n"
    }
   },
   "source": [
    "Код, если все-таки захочется сохранить датасет в виде трех отдельных файлов:"
   ]
  },
  {
   "cell_type": "code",
   "execution_count": 50,
   "metadata": {},
   "outputs": [],
   "source": [
    "def save_df(df, folder):\n",
    "    msgs = list(item[1]+'\\n' for item in df['message'].items())\n",
    "    with open(os.path.join(folder, 'msg.txt'), 'w', encoding='utf-8') as target:\n",
    "        target.writelines(msgs)\n",
    "        \n",
    "    authors = list(str(item[1])+'\\n' for item in df['author'].items())\n",
    "    with open(os.path.join(folder, 'projectIds.txt'), 'w', encoding='utf-8') as target:\n",
    "        target.writelines(authors)\n",
    "        \n",
    "    diffs = list(item[1]+'\\n' for item in df['diff'].items())\n",
    "    with open(os.path.join(folder, 'diff.txt'), 'w', encoding='utf-8') as target:\n",
    "        target.writelines(diffs)"
   ]
  },
  {
   "cell_type": "code",
   "execution_count": null,
   "outputs": [],
   "source": [
    "os.makedirs('data', exist_ok=True)\n",
    "os.makedirs('data/train', exist_ok=True)\n",
    "os.makedirs('data/val', exist_ok=True)\n",
    "os.makedirs('data/test', exist_ok=True)\n",
    "save_df(train_df, 'data/train')\n",
    "save_df(val_df, 'data/val')\n",
    "save_df(test_df, 'data/test')"
   ],
   "metadata": {
    "collapsed": false,
    "pycharm": {
     "name": "#%%\n"
    }
   }
  },
  {
   "cell_type": "code",
   "execution_count": 51,
   "metadata": {},
   "outputs": [],
   "source": [
    "os.makedirs('data', exist_ok=True)\n",
    "os.makedirs('data/train', exist_ok=True)\n",
    "os.makedirs('data/val', exist_ok=True)\n",
    "os.makedirs('data/test', exist_ok=True)\n",
    "save_df(train_df, 'data/train')\n",
    "save_df(val_df, 'data/val')\n",
    "save_df(test_df, 'data/test')"
   ]
  }
 ],
 "metadata": {
  "kernelspec": {
   "display_name": "Python 3",
   "language": "python",
   "name": "python3"
  },
  "language_info": {
   "codemirror_mode": {
    "name": "ipython",
    "version": 3
   },
   "file_extension": ".py",
   "mimetype": "text/x-python",
   "name": "python",
   "nbconvert_exporter": "python",
   "pygments_lexer": "ipython3",
   "version": "3.8.5"
  }
 },
 "nbformat": 4,
 "nbformat_minor": 5
}